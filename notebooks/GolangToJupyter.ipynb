{
 "cells": [
  {
   "cell_type": "raw",
   "metadata": {},
   "source": [
    "---\n",
    "published: true\n",
    "layout: post\n",
    "title: Golang to Jupyter\n",
    "tags: coding golang jupyter\n",
    "featured: cli\n",
    "mast: juypter\n",
    "---"
   ]
  },
  {
   "cell_type": "markdown",
   "metadata": {},
   "source": [
    "[Jupyter Notbooks](http://jupyter.org/) have have been a popular technology in the Python data science community for awhile now, especially in academics. Jupyter Notbooks are a way to mix inline, executable code with documentation in a presentation format. Best practices in organizing source code are not always the most effecient at communicating it's functionality to a user. \n",
    "\n",
    "While programming languages are intended to abstract computational complexity into a simplified language humans can read and write, they must always weigh toward the effeciency of the primary interpreter, the computer. Jupyter Notbooks are intended to communicate souce code to humans first and computers second. We can use Jupyter Notbooks to communicate to humans not only the source, but the inprepreted result.\n",
    "\n",
    "Jupyter can use an growing number of interpreters (called [kernels](https://github.com/jupyter/jupyter/wiki/Jupyter-kernels)) to run and render output, including my favorite, [Golang](https://golang.org/). \n",
    "\n",
    "Although data science expresse in Python is first and most popular use of Jupyter Notbooks I see a lot of other extreamly usefull applications, inclusing:\n",
    "\n",
    "- Programming tutorials in a variety of languages.\n",
    "- Coding Best practices and style guides.\n",
    "- Any technical blog or article writing.\n",
    "\n",
    "Beyond the ability to execute code in-line, the most usefull features to me is exporting these notebooks as Makdown. Site builders like [Jekyll](https://jekyllrb.com/) and [Hugo](https://gohugo.io/) use [Markdown](https://daringfireball.net/projects/markdown/syntax) to generate [beautiful static websites and blogs](https://gohugo.io/showcase/)."
   ]
  },
  {
   "cell_type": "markdown",
   "metadata": {},
   "source": [
    "## Example\n",
    "\n",
    "In the sections below I demonstrate simple http client call from go."
   ]
  },
  {
   "cell_type": "code",
   "execution_count": 19,
   "metadata": {},
   "outputs": [
    {
     "name": "stdout",
     "output_type": "stream",
     "text": [
      "RAW JSON: {\n",
      "  \"userId\": 1,\n",
      "  \"id\": 1,\n",
      "  \"title\": \"sunt aut facere repellat provident occaecati excepturi optio reprehenderit\",\n",
      "  \"body\": \"quia et suscipit\\nsuscipit recusandae consequuntur expedita et cum\\nreprehenderit molestiae ut ut quas totam\\nnostrum rerum est autem sunt rem eveniet architecto\"\n",
      "}"
     ]
    },
    {
     "data": {
      "text/plain": [
       "302 <nil>"
      ]
     },
     "execution_count": 19,
     "metadata": {},
     "output_type": "execute_result"
    }
   ],
   "source": [
    "import (\n",
    "    \"net/http\"\n",
    "    \"io/ioutil\"\n",
    "    \"fmt\"\n",
    ")\n",
    "\n",
    "resp, err := http.Get(\"https://jsonplaceholder.typicode.com/posts/1\")\n",
    "if err != nil {\n",
    "    panic(err)\n",
    "}\n",
    "\n",
    "body, err := ioutil.ReadAll(resp.Body)\n",
    "if err != nil {\n",
    "    panic(err)\n",
    "}\n",
    "\n",
    "fmt.Printf(\"RAW JSON: %s\", body)"
   ]
  },
  {
   "cell_type": "code",
   "execution_count": null,
   "metadata": {},
   "outputs": [],
   "source": []
  }
 ],
 "metadata": {
  "kernelspec": {
   "display_name": "Go",
   "language": "go",
   "name": "gophernotes"
  },
  "language_info": {
   "codemirror_mode": "",
   "file_extension": ".go",
   "mimetype": "",
   "name": "go",
   "nbconvert_exporter": "",
   "pygments_lexer": "",
   "version": "go1.10.2"
  }
 },
 "nbformat": 4,
 "nbformat_minor": 2
}
