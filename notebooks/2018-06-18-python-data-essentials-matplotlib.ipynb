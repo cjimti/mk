{
 "cells": [
  {
   "cell_type": "raw",
   "metadata": {},
   "source": [
    "---\n",
    "published: true\n",
    "layout: post\n",
    "title: Python Data Essentials - Matplotlib\n",
    "tags: coding python\n",
    "featured: python coding\n",
    "mast: art\n",
    "---"
   ]
  },
  {
   "cell_type": "markdown",
   "metadata": {},
   "source": [
    "[Matplotlib] is the popular Python library for visualizations in data science. Extension packages like [seaborn] and many others use and extend [Matplotlib]. If you are new to data science or just need to get some data in into [plot]s, [histogram]s, [power spectra], [bar charts], [error charts], scatterplots and more, than all you need is some basic examples to get you started.\n",
    "\n",
    "You should have at least some familiarity with [NumPy] and [Pandas], if not I suggest my previous posts:\n",
    "\n",
    "- [Python Data Essentials - Numpy](https://mk.imti.co/python-data-essentials-numpy/) \n",
    "- [Python Data Essentials - Pandas](https://mk.imti.co/python-data-essentials-pandas/)\n",
    "\n",
    "[scatterplots]:https://en.wikipedia.org/wiki/Scatter_plot\n",
    "[error charts]:https://en.wikipedia.org/wiki/Error_bar\n",
    "[bar charts]:https://en.wikipedia.org/wiki/Bar_chart\n",
    "[power spectra]:https://matplotlib.org/gallery/lines_bars_and_markers/spectrum_demo.html\n",
    "[histogram]:https://en.wikipedia.org/wiki/Histogram\n",
    "[plot]:https://en.wikipedia.org/wiki/Plot_(graphics)\n",
    "[Matplotlib]:https://matplotlib.org/\n",
    "[seaborn]:https://seaborn.pydata.org/\n",
    "\n",
    "**Quick reference to the examples below:**\n",
    "\n",
    "* Do not remove this line (for toc on a rendered blog)\n",
    "{:toc}\n",
    "\n",
    "\n",
    "[countplot]: https://seaborn.pydata.org/generated/seaborn.countplot.html\n"
   ]
  },
  {
   "cell_type": "code",
   "execution_count": 27,
   "metadata": {},
   "outputs": [
    {
     "data": {
      "text/html": [
       "<div>\n",
       "<style scoped>\n",
       "    .dataframe tbody tr th:only-of-type {\n",
       "        vertical-align: middle;\n",
       "    }\n",
       "\n",
       "    .dataframe tbody tr th {\n",
       "        vertical-align: top;\n",
       "    }\n",
       "\n",
       "    .dataframe thead th {\n",
       "        text-align: right;\n",
       "    }\n",
       "</style>\n",
       "<table border=\"1\" class=\"dataframe\">\n",
       "  <thead>\n",
       "    <tr style=\"text-align: right;\">\n",
       "      <th></th>\n",
       "      <th>bender</th>\n",
       "      <th>hal</th>\n",
       "      <th>johnny 5</th>\n",
       "    </tr>\n",
       "  </thead>\n",
       "  <tbody>\n",
       "    <tr>\n",
       "      <th>bending</th>\n",
       "      <td>100.0</td>\n",
       "      <td>0.0</td>\n",
       "      <td>2.0</td>\n",
       "    </tr>\n",
       "    <tr>\n",
       "      <th>dangerous</th>\n",
       "      <td>50.0</td>\n",
       "      <td>90.0</td>\n",
       "      <td>12.0</td>\n",
       "    </tr>\n",
       "    <tr>\n",
       "      <th>humor</th>\n",
       "      <td>50.0</td>\n",
       "      <td>0.0</td>\n",
       "      <td>5.0</td>\n",
       "    </tr>\n",
       "    <tr>\n",
       "      <th>intellect</th>\n",
       "      <td>20.0</td>\n",
       "      <td>100.0</td>\n",
       "      <td>0.0</td>\n",
       "    </tr>\n",
       "  </tbody>\n",
       "</table>\n",
       "</div>"
      ],
      "text/plain": [
       "           bender    hal  johnny 5\n",
       "bending     100.0    0.0       2.0\n",
       "dangerous    50.0   90.0      12.0\n",
       "humor        50.0    0.0       5.0\n",
       "intellect    20.0  100.0       0.0"
      ]
     },
     "execution_count": 27,
     "metadata": {},
     "output_type": "execute_result"
    }
   ],
   "source": [
    "import numpy as np\n",
    "import pandas as pd\n",
    "import matplotlib.pyplot as plt\n",
    "import seaborn as sns\n",
    "\n",
    "aist = {'hal': pd.Series(data = [100, 90], index = ['intellect', 'dangerous']),\n",
    "      'johnny 5': pd.Series(data = [12, 5, 2], index = ['dangerous','humor','bending']),\n",
    "      'bender': pd.Series(data = [20, 50, 50, 100], index = ['intellect', 'dangerous', 'humor', 'bending'])}\n",
    "\n",
    "aist = pd.DataFrame(aibot)\n",
    "aist.fillna(0, inplace=True)\n",
    "aist"
   ]
  },
  {
   "cell_type": "markdown",
   "metadata": {},
   "source": [
    "Use the transpose method of Pasada DataFrame to rotate the matrix."
   ]
  },
  {
   "cell_type": "code",
   "execution_count": 28,
   "metadata": {},
   "outputs": [
    {
     "data": {
      "text/html": [
       "<div>\n",
       "<style scoped>\n",
       "    .dataframe tbody tr th:only-of-type {\n",
       "        vertical-align: middle;\n",
       "    }\n",
       "\n",
       "    .dataframe tbody tr th {\n",
       "        vertical-align: top;\n",
       "    }\n",
       "\n",
       "    .dataframe thead th {\n",
       "        text-align: right;\n",
       "    }\n",
       "</style>\n",
       "<table border=\"1\" class=\"dataframe\">\n",
       "  <thead>\n",
       "    <tr style=\"text-align: right;\">\n",
       "      <th></th>\n",
       "      <th>bending</th>\n",
       "      <th>dangerous</th>\n",
       "      <th>humor</th>\n",
       "      <th>intellect</th>\n",
       "    </tr>\n",
       "  </thead>\n",
       "  <tbody>\n",
       "    <tr>\n",
       "      <th>bender</th>\n",
       "      <td>100.0</td>\n",
       "      <td>50.0</td>\n",
       "      <td>50.0</td>\n",
       "      <td>20.0</td>\n",
       "    </tr>\n",
       "    <tr>\n",
       "      <th>hal</th>\n",
       "      <td>0.0</td>\n",
       "      <td>90.0</td>\n",
       "      <td>0.0</td>\n",
       "      <td>100.0</td>\n",
       "    </tr>\n",
       "    <tr>\n",
       "      <th>johnny 5</th>\n",
       "      <td>2.0</td>\n",
       "      <td>12.0</td>\n",
       "      <td>5.0</td>\n",
       "      <td>0.0</td>\n",
       "    </tr>\n",
       "  </tbody>\n",
       "</table>\n",
       "</div>"
      ],
      "text/plain": [
       "          bending  dangerous  humor  intellect\n",
       "bender      100.0       50.0   50.0       20.0\n",
       "hal           0.0       90.0    0.0      100.0\n",
       "johnny 5      2.0       12.0    5.0        0.0"
      ]
     },
     "execution_count": 28,
     "metadata": {},
     "output_type": "execute_result"
    }
   ],
   "source": [
    "aibot = aist.transpose()\n",
    "aibot"
   ]
  },
  {
   "cell_type": "code",
   "execution_count": 29,
   "metadata": {},
   "outputs": [
    {
     "data": {
      "text/plain": [
       "['bender', 'hal', 'johnny 5']"
      ]
     },
     "execution_count": 29,
     "metadata": {},
     "output_type": "execute_result"
    }
   ],
   "source": [
    "list(aist)\n"
   ]
  },
  {
   "cell_type": "code",
   "execution_count": 32,
   "metadata": {},
   "outputs": [
    {
     "data": {
      "text/plain": [
       "<seaborn.axisgrid.FacetGrid at 0x1a2309a400>"
      ]
     },
     "execution_count": 32,
     "metadata": {},
     "output_type": "execute_result"
    },
    {
     "data": {
      "image/png": "[encoded data removed]",
      "text/plain": [
       "<Figure size 360x360 with 1 Axes>"
      ]
     },
     "metadata": {},
     "output_type": "display_data"
    }
   ],
   "source": [
    "sns.set_color_codes(\"pastel\")\n",
    "sns.lmplot(x='bending', y='dangerous', data=aibot)"
   ]
  },
  {
   "cell_type": "code",
   "execution_count": null,
   "metadata": {},
   "outputs": [],
   "source": []
  }
 ],
 "metadata": {
  "kernelspec": {
   "display_name": "Python [conda env:anaconda3]",
   "language": "python",
   "name": "conda-env-anaconda3-py"
  },
  "language_info": {
   "codemirror_mode": {
    "name": "ipython",
    "version": 3
   },
   "file_extension": ".py",
   "mimetype": "text/x-python",
   "name": "python",
   "nbconvert_exporter": "python",
   "pygments_lexer": "ipython3",
   "version": "3.6.5"
  }
 },
 "nbformat": 4,
 "nbformat_minor": 2
}
