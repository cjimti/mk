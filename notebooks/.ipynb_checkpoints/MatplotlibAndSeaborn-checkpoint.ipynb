{
 "cells": [
  {
   "cell_type": "markdown",
   "metadata": {},
   "source": [
    "## Univariate Visualizations\n",
    "\n",
    "Bar charts for qualitative variables\n",
    "Histograms for quantitave variables\n",
    "\n",
    "In this course, it is expected that your data be in some kind of tidy format. In short, a tidy dataset is a tabular dataset where:\n",
    "\n",
    "- each variable is a column\n",
    "- each observation is a row\n",
    "- each type of observational unit is a table\n"
   ]
  },
  {
   "cell_type": "code",
   "execution_count": 1,
   "metadata": {},
   "outputs": [],
   "source": [
    "import numpy as np\n",
    "import pandas as pd\n",
    "import matplotlib.pyplot as plt\n",
    "import seaborn as sb\n",
    "\n",
    "%matplotlib inline"
   ]
  },
  {
   "cell_type": "code",
   "execution_count": 9,
   "metadata": {},
   "outputs": [
    {
     "name": "stdout",
     "output_type": "stream",
     "text": [
      "   Series A  Series B\n",
      "0        10        20\n",
      "1        50        60\n",
      "2       100       110\n",
      "3         5         8\n",
      "4         3         4\n",
      "5         6         8\n",
      "6        25        60\n"
     ]
    }
   ],
   "source": [
    "# df = pd.read_csv(\"~/workspace/udacity-jupyter/GOOG.csv\", parse_dates=True, index_col=['Date'])\n",
    "# df.head()\n",
    "\n",
    "\n",
    "d = {\"hats\": 6, \"shirts\": 15}\n",
    "df = pd.DataFrame(d)\n",
    "\n",
    "print(df)\n"
   ]
  },
  {
   "cell_type": "raw",
   "metadata": {},
   "source": [
    "base_color = sb.color_palette()[0]\n",
    "sb.countplot(data = df[\"Series A\"], color=base_color)\n",
    "sb"
   ]
  },
  {
   "cell_type": "code",
   "execution_count": null,
   "metadata": {},
   "outputs": [],
   "source": []
  }
 ],
 "metadata": {
  "kernelspec": {
   "display_name": "Python [conda env:anaconda3]",
   "language": "python",
   "name": "conda-env-anaconda3-py"
  },
  "language_info": {
   "codemirror_mode": {
    "name": "ipython",
    "version": 3
   },
   "file_extension": ".py",
   "mimetype": "text/x-python",
   "name": "python",
   "nbconvert_exporter": "python",
   "pygments_lexer": "ipython3",
   "version": "3.6.5"
  }
 },
 "nbformat": 4,
 "nbformat_minor": 2
}
