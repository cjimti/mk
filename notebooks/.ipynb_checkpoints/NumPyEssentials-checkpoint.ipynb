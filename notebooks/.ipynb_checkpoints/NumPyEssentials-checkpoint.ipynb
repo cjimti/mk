{
 "cells": [
  {
   "cell_type": "markdown",
   "metadata": {
    "nbpresent": {
     "id": "8ac4670b-0000-49d5-bd23-b02baafa313b"
    }
   },
   "source": [
    "## Overview\n",
    "\n",
    "- How to import NumPy\n",
    "- How to create multidimensional NumPy ndarrays using various methods\n",
    "- How to access and change elements in ndarrays\n",
    "- How to load and save ndarrays\n",
    "- How to use slicing to select or change subsets of an ndarray\n",
    "- Understand the difference between a view and a copy an of ndarray\n",
    "- How to use Boolean indexing and set operations to select or change subsets of an ndarray\n",
    "- How to sort ndarrays\n",
    "- How to perform element-wise operations on ndarrays\n",
    "- Understand how NumPy uses broadcasting to perform operations on ndarrays of different sizes.\n",
    "\n",
    "NumPy is included with Anaconda.\n",
    "\n",
    "For this article I'll be using numpy 1.13.3.\n",
    "\n",
    "- The core of NumPy is an N-dimential array type.\n",
    "- multidimensional array data structures that can represent vectors and matrices\n",
    "- large number of optimized built-in mathematical functions"
   ]
  },
  {
   "cell_type": "code",
   "execution_count": 2,
   "metadata": {
    "nbpresent": {
     "id": "4f101df1-7b66-486c-afed-f9662307eadc"
    },
    "scrolled": true
   },
   "outputs": [
    {
     "name": "stdout",
     "output_type": "stream",
     "text": [
      "# packages in environment at /Users/cjimti/anaconda3:\r\n",
      "#\r\n",
      "# Name                    Version                   Build  Channel\r\n",
      "numpy                     1.13.3           py36ha9ae307_4  \r\n",
      "numpy-base                1.14.3           py36ha9ae307_2  \r\n",
      "numpydoc                  0.8.0                    py36_0  \r\n"
     ]
    }
   ],
   "source": [
    "!conda list numpy"
   ]
  },
  {
   "cell_type": "markdown",
   "metadata": {
    "nbpresent": {
     "id": "98c015df-2eec-4ea8-8c06-55e55d749835"
    }
   },
   "source": [
    "# Resources\n",
    "\n",
    "- [NumPy Manual](https://docs.scipy.org/doc/numpy-1.13.0/contents.html)\n",
    "- [NumPy User Guide](https://docs.scipy.org/doc/numpy-1.13.0/user/index.html)\n",
    "- [NumPy Reference](https://docs.scipy.org/doc/numpy-1.13.0/reference/index.html#reference)\n",
    "- [Scipy Lectures](http://www.scipy-lectures.org/intro/numpy/index.html)\n"
   ]
  },
  {
   "cell_type": "code",
   "execution_count": 3,
   "metadata": {
    "nbpresent": {
     "id": "b00ab4bc-0bc5-4df9-98d9-52afa69e3241"
    }
   },
   "outputs": [],
   "source": [
    "import numpy as np"
   ]
  },
  {
   "cell_type": "markdown",
   "metadata": {
    "nbpresent": {
     "id": "7b25d052-bfb9-40cc-97e1-9d23418e3d8b"
    }
   },
   "source": [
    "Generate one hundred million random numbers."
   ]
  },
  {
   "cell_type": "code",
   "execution_count": 4,
   "metadata": {
    "nbpresent": {
     "id": "bcb6e840-643c-4f75-98ec-2000a6286080"
    }
   },
   "outputs": [],
   "source": [
    "x = np.random.random(100000000)"
   ]
  },
  {
   "cell_type": "markdown",
   "metadata": {
    "nbpresent": {
     "id": "97b32c39-afaa-48d5-8301-87a766a4ae64"
    }
   },
   "source": [
    "Finding the mean with regular built-in Python 3."
   ]
  },
  {
   "cell_type": "code",
   "execution_count": 5,
   "metadata": {
    "nbpresent": {
     "id": "494f7b15-a3b6-497a-9863-9d07bbe923fe"
    }
   },
   "outputs": [
    {
     "name": "stdout",
     "output_type": "stream",
     "text": [
      "6.62 s ± 131 ms per loop (mean ± std. dev. of 7 runs, 1 loop each)\n"
     ]
    }
   ],
   "source": [
    "%%timeit -n 1\n",
    "sum(x) / len(x)"
   ]
  },
  {
   "cell_type": "markdown",
   "metadata": {
    "nbpresent": {
     "id": "a02d5078-9363-413c-bc8a-ca8126719601"
    }
   },
   "source": [
    "Finding the mean with Numpy."
   ]
  },
  {
   "cell_type": "code",
   "execution_count": 6,
   "metadata": {
    "nbpresent": {
     "id": "aed10fa3-93c6-4894-904e-6b52c0172518"
    }
   },
   "outputs": [
    {
     "name": "stdout",
     "output_type": "stream",
     "text": [
      "46 ms ± 4.44 ms per loop (mean ± std. dev. of 7 runs, 1 loop each)\n"
     ]
    }
   ],
   "source": [
    "%%timeit -n 1\n",
    "np.mean(x)"
   ]
  },
  {
   "cell_type": "markdown",
   "metadata": {
    "nbpresent": {
     "id": "a3922138-d256-4422-b240-dd666b14a99f"
    }
   },
   "source": [
    "### Creating NumPy Arrays"
   ]
  },
  {
   "cell_type": "code",
   "execution_count": 7,
   "metadata": {
    "nbpresent": {
     "id": "a172f139-4469-47c9-8418-f1078977e971"
    }
   },
   "outputs": [],
   "source": [
    "import numpy as np\n",
    "\n",
    "x = np.array([1,2,3,4,5])"
   ]
  },
  {
   "cell_type": "code",
   "execution_count": 8,
   "metadata": {
    "nbpresent": {
     "id": "58756182-02cf-4143-8e38-d939cacf320c"
    }
   },
   "outputs": [
    {
     "name": "stdout",
     "output_type": "stream",
     "text": [
      "[1 2 3 4 5]\n",
      "<class 'numpy.ndarray'>\n"
     ]
    }
   ],
   "source": [
    "print(x)\n",
    "print(type(x))"
   ]
  },
  {
   "cell_type": "code",
   "execution_count": 9,
   "metadata": {
    "nbpresent": {
     "id": "3644f5e5-b90a-44b5-a0d4-89937cbc2298"
    }
   },
   "outputs": [
    {
     "data": {
      "text/plain": [
       "dtype('int64')"
      ]
     },
     "execution_count": 9,
     "metadata": {},
     "output_type": "execute_result"
    }
   ],
   "source": [
    "x.dtype"
   ]
  },
  {
   "cell_type": "code",
   "execution_count": 10,
   "metadata": {
    "nbpresent": {
     "id": "09f8d189-7628-453a-8230-5db2a8ea81b0"
    }
   },
   "outputs": [
    {
     "data": {
      "text/plain": [
       "(5,)"
      ]
     },
     "execution_count": 10,
     "metadata": {},
     "output_type": "execute_result"
    }
   ],
   "source": [
    "x.shape"
   ]
  },
  {
   "cell_type": "code",
   "execution_count": 11,
   "metadata": {
    "nbpresent": {
     "id": "2d8fbdc9-8ce7-427e-bc3d-6836989a2b55"
    }
   },
   "outputs": [],
   "source": [
    "y = np.array([[1,1,1],[2,2,2],[3,3,3]])"
   ]
  },
  {
   "cell_type": "code",
   "execution_count": 12,
   "metadata": {
    "nbpresent": {
     "id": "532b646e-a0e5-4446-9f0d-bd95b468cc22"
    }
   },
   "outputs": [
    {
     "data": {
      "text/plain": [
       "(3, 3)"
      ]
     },
     "execution_count": 12,
     "metadata": {},
     "output_type": "execute_result"
    }
   ],
   "source": [
    "y.shape"
   ]
  },
  {
   "cell_type": "code",
   "execution_count": 13,
   "metadata": {
    "nbpresent": {
     "id": "289f16ee-4935-416c-8de6-994787d56e8b"
    }
   },
   "outputs": [
    {
     "data": {
      "text/plain": [
       "9"
      ]
     },
     "execution_count": 13,
     "metadata": {},
     "output_type": "execute_result"
    }
   ],
   "source": [
    "y.size"
   ]
  },
  {
   "cell_type": "markdown",
   "metadata": {
    "nbpresent": {
     "id": "2b4e4dea-ec6a-44ea-a6da-d0c5c68b6a2b"
    }
   },
   "source": [
    "- Rank N is the number if dimentions.\n",
    "- Rank 1 array is flat\n",
    "- All elements must be of the same type"
   ]
  },
  {
   "cell_type": "markdown",
   "metadata": {
    "nbpresent": {
     "id": "766296bb-cd80-4201-8e3c-f6952dfd9847"
    }
   },
   "source": [
    "Save and load an array."
   ]
  },
  {
   "cell_type": "code",
   "execution_count": 14,
   "metadata": {
    "nbpresent": {
     "id": "6c181c08-1886-4e00-807b-774b16f36803"
    }
   },
   "outputs": [],
   "source": [
    "np.save('some_array', y)"
   ]
  },
  {
   "cell_type": "code",
   "execution_count": 15,
   "metadata": {
    "nbpresent": {
     "id": "e01ffe03-d632-4ade-8f5a-1773df3a43fd"
    }
   },
   "outputs": [
    {
     "name": "stdout",
     "output_type": "stream",
     "text": [
      "[[1 1 1]\n",
      " [2 2 2]\n",
      " [3 3 3]]\n"
     ]
    }
   ],
   "source": [
    "yy = np.load('some_array.npy')\n",
    "print(yy)"
   ]
  },
  {
   "cell_type": "markdown",
   "metadata": {
    "nbpresent": {
     "id": "abc1c086-6fb7-4ce3-b207-f6603ffa3430"
    }
   },
   "source": [
    "### Built-in Functions to Create ndarrays"
   ]
  },
  {
   "cell_type": "code",
   "execution_count": 16,
   "metadata": {
    "nbpresent": {
     "id": "1eb96c6d-e6ba-47ea-a1b9-7ff4a525ca2d"
    }
   },
   "outputs": [
    {
     "name": "stdout",
     "output_type": "stream",
     "text": [
      "[[ 0.  0.  0.  0.]\n",
      " [ 0.  0.  0.  0.]\n",
      " [ 0.  0.  0.  0.]]\n"
     ]
    }
   ],
   "source": [
    "zeros = np.zeros((3,4))\n",
    "print(zeros)"
   ]
  },
  {
   "cell_type": "code",
   "execution_count": 17,
   "metadata": {
    "nbpresent": {
     "id": "e8151ee9-8eb9-454a-b4ab-4378997590be"
    }
   },
   "outputs": [
    {
     "name": "stdout",
     "output_type": "stream",
     "text": [
      "float64\n"
     ]
    }
   ],
   "source": [
    "print(zeros.dtype)"
   ]
  },
  {
   "cell_type": "code",
   "execution_count": 18,
   "metadata": {
    "nbpresent": {
     "id": "82cec048-b0cc-48f1-b45b-f7dcd00b8a95"
    }
   },
   "outputs": [
    {
     "name": "stdout",
     "output_type": "stream",
     "text": [
      "[[5 5]\n",
      " [5 5]]\n"
     ]
    }
   ],
   "source": [
    "myn = np.full((2,2), 5)\n",
    "print(myn)"
   ]
  },
  {
   "cell_type": "code",
   "execution_count": 19,
   "metadata": {
    "nbpresent": {
     "id": "49513349-9f05-45f7-8496-77dcb574b30b"
    }
   },
   "outputs": [
    {
     "name": "stdout",
     "output_type": "stream",
     "text": [
      "int64\n"
     ]
    }
   ],
   "source": [
    "# what we used as a constant\n",
    "print(myn.dtype)"
   ]
  },
  {
   "cell_type": "markdown",
   "metadata": {
    "nbpresent": {
     "id": "5085101f-6216-4353-ba8d-550b7f34e97f"
    }
   },
   "source": [
    "Identity matrix is a square with ones along is diagonal and zeros everwhere else"
   ]
  },
  {
   "cell_type": "code",
   "execution_count": 20,
   "metadata": {
    "nbpresent": {
     "id": "b8b78bc4-83a9-4d9b-9d0c-f682bc6cc3f0"
    }
   },
   "outputs": [
    {
     "name": "stdout",
     "output_type": "stream",
     "text": [
      "[[ 1.  0.  0.  0.  0.  0.  0.  0.]\n",
      " [ 0.  1.  0.  0.  0.  0.  0.  0.]\n",
      " [ 0.  0.  1.  0.  0.  0.  0.  0.]\n",
      " [ 0.  0.  0.  1.  0.  0.  0.  0.]\n",
      " [ 0.  0.  0.  0.  1.  0.  0.  0.]\n",
      " [ 0.  0.  0.  0.  0.  1.  0.  0.]\n",
      " [ 0.  0.  0.  0.  0.  0.  1.  0.]\n",
      " [ 0.  0.  0.  0.  0.  0.  0.  1.]]\n"
     ]
    }
   ],
   "source": [
    "ident = np.eye(8)\n",
    "print(ident)"
   ]
  },
  {
   "cell_type": "code",
   "execution_count": 21,
   "metadata": {
    "nbpresent": {
     "id": "77ffb008-976d-4471-a808-2cad698f249c"
    }
   },
   "outputs": [
    {
     "name": "stdout",
     "output_type": "stream",
     "text": [
      "[[ 2  0  0  0  0  0  0]\n",
      " [ 0  4  0  0  0  0  0]\n",
      " [ 0  0  5  0  0  0  0]\n",
      " [ 0  0  0  6  0  0  0]\n",
      " [ 0  0  0  0  8  0  0]\n",
      " [ 0  0  0  0  0 10  0]\n",
      " [ 0  0  0  0  0  0 12]]\n"
     ]
    }
   ],
   "source": [
    "diag = np.diag([2,4,5,6,8,10,12])\n",
    "print(diag)"
   ]
  },
  {
   "cell_type": "code",
   "execution_count": 22,
   "metadata": {
    "nbpresent": {
     "id": "c33539b4-ff5c-44c6-aeba-90b65ea3918f"
    }
   },
   "outputs": [
    {
     "name": "stdout",
     "output_type": "stream",
     "text": [
      "[ 0  1  2  3  4  5  6  7  8  9 10 11 12 13]\n"
     ]
    }
   ],
   "source": [
    "# arange with stop only\n",
    "ar_stop = np.arange(14)\n",
    "print(ar_stop)"
   ]
  },
  {
   "cell_type": "code",
   "execution_count": 23,
   "metadata": {
    "nbpresent": {
     "id": "065d1076-ae56-4ab4-8bb8-e5182373f1f7"
    }
   },
   "outputs": [
    {
     "name": "stdout",
     "output_type": "stream",
     "text": [
      "[5 6 7 8 9]\n"
     ]
    }
   ],
   "source": [
    "# arange rank 1 array with start and stop\n",
    "ar_ss = np.arange(5,10)\n",
    "print(ar_ss)"
   ]
  },
  {
   "cell_type": "code",
   "execution_count": 24,
   "metadata": {
    "nbpresent": {
     "id": "127bbf44-3edf-4f6b-b618-1f177742bb64"
    }
   },
   "outputs": [
    {
     "name": "stdout",
     "output_type": "stream",
     "text": [
      "[ 2 12 22 32 42 52 62 72 82 92]\n"
     ]
    }
   ],
   "source": [
    "# arange rank 1 array with start, stop and step\n",
    "ar_sss = np.arange(2,100,10)\n",
    "print(ar_sss)"
   ]
  },
  {
   "cell_type": "code",
   "execution_count": 25,
   "metadata": {
    "nbpresent": {
     "id": "75ab19cd-5e96-4982-ad29-adcacd408a56"
    }
   },
   "outputs": [
    {
     "name": "stdout",
     "output_type": "stream",
     "text": [
      "[  0.           0.68965517   1.37931034   2.06896552   2.75862069\n",
      "   3.44827586   4.13793103   4.82758621   5.51724138   6.20689655\n",
      "   6.89655172   7.5862069    8.27586207   8.96551724   9.65517241\n",
      "  10.34482759  11.03448276  11.72413793  12.4137931   13.10344828\n",
      "  13.79310345  14.48275862  15.17241379  15.86206897  16.55172414\n",
      "  17.24137931  17.93103448  18.62068966  19.31034483  20.        ]\n"
     ]
    }
   ],
   "source": [
    "# rank 1 array of evenly spaced floats\n",
    "lsp = np.linspace(0, 20, 30)\n",
    "print(lsp)"
   ]
  },
  {
   "cell_type": "code",
   "execution_count": 26,
   "metadata": {
    "nbpresent": {
     "id": "e1aaa025-d0a9-4bd9-9d88-6ff7844c1a7a"
    }
   },
   "outputs": [
    {
     "name": "stdout",
     "output_type": "stream",
     "text": [
      "[  0.           0.66666667   1.33333333   2.           2.66666667\n",
      "   3.33333333   4.           4.66666667   5.33333333   6.           6.66666667\n",
      "   7.33333333   8.           8.66666667   9.33333333  10.          10.66666667\n",
      "  11.33333333  12.          12.66666667  13.33333333  14.          14.66666667\n",
      "  15.33333333  16.          16.66666667  17.33333333  18.          18.66666667\n",
      "  19.33333333]\n"
     ]
    }
   ],
   "source": [
    "# rank 1 array of evenly spaced floats excluding endpoint\n",
    "lspe = np.linspace(0, 20, 30, endpoint=False)\n",
    "print(lspe)"
   ]
  },
  {
   "cell_type": "code",
   "execution_count": 27,
   "metadata": {
    "nbpresent": {
     "id": "f6b4f086-511c-40ca-8f80-be9042156d37"
    }
   },
   "outputs": [
    {
     "name": "stdout",
     "output_type": "stream",
     "text": [
      "[0 1 2 3 4 5 6 7 8 9]\n",
      "[[0 1 2 3 4]\n",
      " [5 6 7 8 9]]\n"
     ]
    }
   ],
   "source": [
    "# reshape\n",
    "r1 = np.arange(10)\n",
    "print(r1)\n",
    "\n",
    "r2 = np.reshape(r1, (2,5))\n",
    "print(r2)"
   ]
  },
  {
   "cell_type": "code",
   "execution_count": 28,
   "metadata": {
    "nbpresent": {
     "id": "4f23d286-4418-466d-8153-1025442d9f99"
    }
   },
   "outputs": [
    {
     "name": "stdout",
     "output_type": "stream",
     "text": [
      "[[0 1 2 3 4]\n",
      " [5 6 7 8 9]]\n"
     ]
    }
   ],
   "source": [
    "# combine using functions\n",
    "r2b = np.arange(10).reshape(2,5)\n",
    "print(r2b)"
   ]
  },
  {
   "cell_type": "code",
   "execution_count": 29,
   "metadata": {
    "nbpresent": {
     "id": "34e8e2c4-0450-498a-bbd0-49ef6361ba32"
    }
   },
   "outputs": [
    {
     "data": {
      "text/plain": [
       "array([[ 0.88594678,  0.0419105 ,  0.20020519,  0.57954225],\n",
       "       [ 0.30186062,  0.34069731,  0.01526394,  0.8937293 ],\n",
       "       [ 0.40411583,  0.55458393,  0.96808681,  0.66675887],\n",
       "       [ 0.40085971,  0.94131935,  0.97772401,  0.58866584]])"
      ]
     },
     "execution_count": 29,
     "metadata": {},
     "output_type": "execute_result"
    }
   ],
   "source": [
    "# create a 4x4 rank 2 array \n",
    "np.random.random((4,4))"
   ]
  },
  {
   "cell_type": "code",
   "execution_count": 30,
   "metadata": {
    "nbpresent": {
     "id": "2081be1b-635a-4d9e-94d8-5c22250508ca"
    }
   },
   "outputs": [
    {
     "name": "stdout",
     "output_type": "stream",
     "text": [
      "[[12 82 95 76 84]\n",
      " [55 38 66 87  8]\n",
      " [81 26 87 90 79]\n",
      " [88 37 27 16 97]\n",
      " [75 37 59 98 29]]\n"
     ]
    }
   ],
   "source": [
    "xx = np.random.randint(0,100,(5,5))\n",
    "print(xx)"
   ]
  },
  {
   "cell_type": "code",
   "execution_count": 31,
   "metadata": {},
   "outputs": [
    {
     "name": "stdout",
     "output_type": "stream",
     "text": [
      "[[-0.24382788  0.17027355  0.38391686 -0.12594951]\n",
      " [-0.16702321  0.07295548 -0.05549999  0.52401363]\n",
      " [-0.40960325  0.05987577  0.18253092 -0.37751977]\n",
      " [ 0.74185349 -0.45420612 -0.22627199 -0.06697274]\n",
      " [ 0.3491049  -0.00443179 -0.03751445  0.59195286]\n",
      " [-0.17702606  0.49502859 -0.5362266  -0.10000391]\n",
      " [ 0.25976116 -1.26516021  0.83992969 -0.03165471]\n",
      " [-1.00654172  0.88203221  0.04580769  0.46579482]\n",
      " [ 0.55703551  0.80667716  0.06339081 -0.3753196 ]\n",
      " [-0.68192791  0.3825767   0.10822668  0.35510455]]\n",
      "mean: 0.04987904062889002\n",
      " std: 0.4719668968868103\n"
     ]
    }
   ],
   "source": [
    "# random numbers drawn from probability distributions\n",
    "# mean of 0 and standard deviation of .5\n",
    "xa = np.random.normal(0,0.5, size=(10,4))\n",
    "\n",
    "print(xa)\n",
    "print(f'mean: {xa.mean()}')\n",
    "print(f' std: {xa.std()}')"
   ]
  },
  {
   "cell_type": "markdown",
   "metadata": {},
   "source": [
    "## Accessing, Deleting, and Inserting Elements Into ndarrays"
   ]
  },
  {
   "cell_type": "code",
   "execution_count": 32,
   "metadata": {},
   "outputs": [
    {
     "name": "stdout",
     "output_type": "stream",
     "text": [
      "-0.243827876697\n",
      "-0.243827876697\n",
      "[[ 0.17027355  0.38391686 -0.12594951]\n",
      " [ 0.07295548 -0.05549999  0.52401363]\n",
      " [ 0.05987577  0.18253092 -0.37751977]\n",
      " [-0.45420612 -0.22627199 -0.06697274]\n",
      " [-0.00443179 -0.03751445  0.59195286]\n",
      " [ 0.49502859 -0.5362266  -0.10000391]\n",
      " [-1.26516021  0.83992969 -0.03165471]\n",
      " [ 0.88203221  0.04580769  0.46579482]\n",
      " [ 0.80667716  0.06339081 -0.3753196 ]\n",
      " [ 0.3825767   0.10822668  0.35510455]]\n",
      " size: 30\n",
      "shape: (10, 3)\n",
      "\n",
      " [[ 0.07295548 -0.05549999  0.52401363]\n",
      " [-0.45420612 -0.22627199 -0.06697274]\n",
      " [-0.00443179 -0.03751445  0.59195286]\n",
      " [ 0.49502859 -0.5362266  -0.10000391]\n",
      " [-1.26516021  0.83992969 -0.03165471]\n",
      " [ 0.88203221  0.04580769  0.46579482]\n",
      " [ 0.80667716  0.06339081 -0.3753196 ]\n",
      " [ 0.3825767   0.10822668  0.35510455]]\n",
      " size: 24\n",
      "shape: (8, 3)\n"
     ]
    }
   ],
   "source": [
    "# access value\n",
    "print(xa[0][0])\n",
    "\n",
    "# numpy style (rows, columns)\n",
    "print(xa[0,0])\n",
    "\n",
    "# delete column 0\n",
    "xad = np.delete(xa, 0, axis=1)\n",
    "print(xad)\n",
    "print(f' size: {xad.size}')\n",
    "print(f'shape: {xad.shape}')\n",
    "\n",
    "# delete row 0, 1 and 2\n",
    "xadr = np.delete(xad, [0,2], axis=0)\n",
    "print(\"\\n\", xadr)\n",
    "print(f' size: {xadr.size}')\n",
    "print(f'shape: {xadr.shape}')"
   ]
  },
  {
   "cell_type": "code",
   "execution_count": 33,
   "metadata": {},
   "outputs": [
    {
     "name": "stdout",
     "output_type": "stream",
     "text": [
      "[0 1 2 3 4 5 6 7 8 9]\n",
      "\n",
      " [ 0  1  2  3  4  5  6  7  8  9 10 11]\n",
      "\n",
      " [[ 0  1  2  3]\n",
      " [ 4  5  6  7]\n",
      " [ 8  9 10 11]]\n",
      "\n",
      "append a row:\n",
      " [[ 0  1  2  3]\n",
      " [ 4  5  6  7]\n",
      " [ 8  9 10 11]\n",
      " [12 13 14 15]]\n",
      "\n",
      "append a col:\n",
      " [[ 0  1  2  3  0]\n",
      " [ 4  5  6  7  0]\n",
      " [ 8  9 10 11  0]\n",
      " [12 13 14 15  0]]\n"
     ]
    }
   ],
   "source": [
    "# simple append\n",
    "ar = np.arange(10)\n",
    "print(ar)\n",
    "\n",
    "ar2 = np.append(ar, [10,11])\n",
    "print(\"\\n\",ar2)\n",
    "\n",
    "# reshape\n",
    "arnd = ar2.reshape(3,4)\n",
    "print(\"\\n\",arnd)\n",
    "\n",
    "# append a row\n",
    "arnd2 = np.append(arnd, [[12,13,14,15]], axis=0)\n",
    "print(\"\\nappend a row:\\n\",arnd2)\n",
    "\n",
    "# append a column\n",
    "arnd3 = np.append(arnd2, [[0],[0],[0],[0]], axis=1)\n",
    "print(\"\\nappend a col:\\n\",arnd3)"
   ]
  },
  {
   "cell_type": "code",
   "execution_count": 34,
   "metadata": {},
   "outputs": [
    {
     "name": "stdout",
     "output_type": "stream",
     "text": [
      "[0 0 0 0]\n",
      "[0 0 1 1 1 0 0]\n"
     ]
    }
   ],
   "source": [
    "# insert into array\n",
    "params = np.array([0,0,0,0])\n",
    "print(params)\n",
    "\n",
    "# insert at index 2\n",
    "params2 = np.insert(params, 2, [1,1,1])\n",
    "print(params2)"
   ]
  },
  {
   "cell_type": "code",
   "execution_count": 35,
   "metadata": {},
   "outputs": [
    {
     "name": "stdout",
     "output_type": "stream",
     "text": [
      "[[0 0 0 0 0]\n",
      " [0 0 0 0 0]\n",
      " [0 0 0 0 0]\n",
      " [0 0 0 0 0]\n",
      " [0 0 0 0 0]]\n",
      "\n",
      "instert a row:\n",
      " [[0 0 0 0 0]\n",
      " [1 2 3 4 5]\n",
      " [0 0 0 0 0]\n",
      " [0 0 0 0 0]\n",
      " [0 0 0 0 0]\n",
      " [0 0 0 0 0]]\n",
      "\n",
      "instert a column:\n",
      " [[0 0 5 0 0 0]\n",
      " [1 2 5 3 4 5]\n",
      " [0 0 5 0 0 0]\n",
      " [0 0 5 0 0 0]\n",
      " [0 0 5 0 0 0]\n",
      " [0 0 5 0 0 0]]\n"
     ]
    }
   ],
   "source": [
    "zeros = np.full((5,5), 0)\n",
    "print(zeros)\n",
    "\n",
    "# insert row\n",
    "zr = np.insert(zeros, 1, [1,2,3,4,5], axis=0)\n",
    "print(\"\\ninstert a row:\\n\",zr)\n",
    "\n",
    "# insert row\n",
    "zr2 = np.insert(zr, 2, 5, axis=1)\n",
    "print(\"\\ninstert a column:\\n\",zr2)"
   ]
  },
  {
   "cell_type": "code",
   "execution_count": 40,
   "metadata": {},
   "outputs": [
    {
     "name": "stdout",
     "output_type": "stream",
     "text": [
      "[[6 6 6 6 6]\n",
      " [6 6 6 6 6]\n",
      " [6 6 6 6 6]\n",
      " [6 6 6 6 6]\n",
      " [6 6 6 6 6]\n",
      " [7 7 7 7 7]\n",
      " [7 7 7 7 7]\n",
      " [7 7 7 7 7]\n",
      " [7 7 7 7 7]\n",
      " [7 7 7 7 7]]\n"
     ]
    }
   ],
   "source": [
    "# stacking arrays\n",
    "\n",
    "x = np.full((5,5), 6)\n",
    "y = np.full((5,5), 7)\n",
    "\n",
    "vs = np.vstack((x, y))\n",
    "\n",
    "print(\"\\nvstack:\\n\",vs)"
   ]
  },
  {
   "cell_type": "code",
   "execution_count": 42,
   "metadata": {},
   "outputs": [
    {
     "name": "stdout",
     "output_type": "stream",
     "text": [
      "\n",
      "hstack:\n",
      " [[6 6 6 6 6 7 7 7 7 7]\n",
      " [6 6 6 6 6 7 7 7 7 7]\n",
      " [6 6 6 6 6 7 7 7 7 7]\n",
      " [6 6 6 6 6 7 7 7 7 7]\n",
      " [6 6 6 6 6 7 7 7 7 7]]\n"
     ]
    }
   ],
   "source": [
    "hs = np.hstack((x, y))\n",
    "\n",
    "print(\"\\nhstack:\\n\",hs)"
   ]
  },
  {
   "cell_type": "markdown",
   "metadata": {},
   "source": [
    "## Slicing Arrays"
   ]
  },
  {
   "cell_type": "code",
   "execution_count": 43,
   "metadata": {},
   "outputs": [],
   "source": [
    "import numpy as np"
   ]
  },
  {
   "cell_type": "markdown",
   "metadata": {},
   "source": [
    "1. ndarray[start:end]\n",
    "2. ndarray[start:]\n",
    "3. ndarray[:end]\n",
    "\n",
    "We should note that in methods one and three, the end index is excluded. We should also note that since ndarrays can be multidimensional, when doing slicing you usually have to specify a slice for each dimension of the array."
   ]
  },
  {
   "cell_type": "code",
   "execution_count": 44,
   "metadata": {},
   "outputs": [
    {
     "name": "stdout",
     "output_type": "stream",
     "text": [
      "[[ 1  2  3  4  5]\n",
      " [ 6  7  8  9 10]\n",
      " [11 12 13 14 15]\n",
      " [16 17 18 19 20]]\n"
     ]
    }
   ],
   "source": [
    "X = np.arange(1, 21).reshape(4,5)\n",
    "print(X)"
   ]
  },
  {
   "cell_type": "code",
   "execution_count": 46,
   "metadata": {},
   "outputs": [
    {
     "name": "stdout",
     "output_type": "stream",
     "text": [
      "[[ 8  9 10]\n",
      " [13 14 15]\n",
      " [18 19 20]]\n"
     ]
    }
   ],
   "source": [
    "z = X[1:4, 2:5]\n",
    "print(z)"
   ]
  },
  {
   "cell_type": "code",
   "execution_count": 51,
   "metadata": {},
   "outputs": [
    {
     "name": "stdout",
     "output_type": "stream",
     "text": [
      "[[ 2]\n",
      " [ 7]\n",
      " [12]\n",
      " [17]]\n"
     ]
    }
   ],
   "source": [
    "zz = X[:, 1:2] # zz is a view of X\n",
    "print(zz)"
   ]
  },
  {
   "cell_type": "code",
   "execution_count": 55,
   "metadata": {},
   "outputs": [
    {
     "name": "stdout",
     "output_type": "stream",
     "text": [
      "[[ 0]\n",
      " [ 7]\n",
      " [12]\n",
      " [17]]\n"
     ]
    }
   ],
   "source": [
    "zz[0][0] = 0\n",
    "print(zz)"
   ]
  },
  {
   "cell_type": "code",
   "execution_count": 56,
   "metadata": {},
   "outputs": [
    {
     "name": "stdout",
     "output_type": "stream",
     "text": [
      "[[ 1  0  3  4  5]\n",
      " [ 6  7  8  9 10]\n",
      " [11 12 13 14 15]\n",
      " [16 17 18 19 20]]\n"
     ]
    }
   ],
   "source": [
    "print(X)  # X was also changed"
   ]
  },
  {
   "cell_type": "code",
   "execution_count": 58,
   "metadata": {},
   "outputs": [
    {
     "name": "stdout",
     "output_type": "stream",
     "text": [
      "[[ 0  0  3  4  5]\n",
      " [ 6  7  8  9 10]\n",
      " [11 12 13 14 15]\n",
      " [16 17 18 19 20]]\n"
     ]
    }
   ],
   "source": [
    "# copy an array\n",
    "Y = X.copy()\n",
    "Y[0][0] = 0\n",
    "print(Y)"
   ]
  },
  {
   "cell_type": "code",
   "execution_count": 59,
   "metadata": {},
   "outputs": [
    {
     "name": "stdout",
     "output_type": "stream",
     "text": [
      "[[ 1  0  3  4  5]\n",
      " [ 6  7  8  9 10]\n",
      " [11 12 13 14 15]\n",
      " [16 17 18 19 20]]\n"
     ]
    }
   ],
   "source": [
    "print(X)"
   ]
  },
  {
   "cell_type": "code",
   "execution_count": 63,
   "metadata": {},
   "outputs": [
    {
     "name": "stdout",
     "output_type": "stream",
     "text": [
      "[1 3]\n"
     ]
    }
   ],
   "source": [
    "indices = np.array([1,3])\n",
    "print(indices)"
   ]
  },
  {
   "cell_type": "code",
   "execution_count": 65,
   "metadata": {},
   "outputs": [
    {
     "name": "stdout",
     "output_type": "stream",
     "text": [
      "[[ 0  4]\n",
      " [ 7  9]\n",
      " [12 14]\n",
      " [17 19]]\n"
     ]
    }
   ],
   "source": [
    "z = X[:, indices] # all rows for columns 1 and 3\n",
    "print(z)"
   ]
  },
  {
   "cell_type": "code",
   "execution_count": 66,
   "metadata": {},
   "outputs": [
    {
     "name": "stdout",
     "output_type": "stream",
     "text": [
      "[ 1  7 13 19]\n"
     ]
    }
   ],
   "source": [
    "YY = np.diag(X)\n",
    "print(YY)"
   ]
  },
  {
   "cell_type": "code",
   "execution_count": 67,
   "metadata": {},
   "outputs": [
    {
     "name": "stdout",
     "output_type": "stream",
     "text": [
      "[ 0  8 14 20]\n"
     ]
    }
   ],
   "source": [
    "YY = np.diag(X, k=1)\n",
    "print(YY)"
   ]
  },
  {
   "cell_type": "code",
   "execution_count": 68,
   "metadata": {},
   "outputs": [
    {
     "name": "stdout",
     "output_type": "stream",
     "text": [
      "[ 6 12 18]\n"
     ]
    }
   ],
   "source": [
    "YY = np.diag(X, k=-1)\n",
    "print(YY)"
   ]
  },
  {
   "cell_type": "code",
   "execution_count": 70,
   "metadata": {},
   "outputs": [
    {
     "name": "stdout",
     "output_type": "stream",
     "text": [
      "[[2 2 1]\n",
      " [3 3 1]\n",
      " [5 5 5]]\n"
     ]
    }
   ],
   "source": [
    "X = np.array([[2,2,1],[3,3,1],[5,5,5]])\n",
    "print(X)"
   ]
  },
  {
   "cell_type": "code",
   "execution_count": 75,
   "metadata": {},
   "outputs": [
    {
     "name": "stdout",
     "output_type": "stream",
     "text": [
      "[1 2 3 5]\n"
     ]
    }
   ],
   "source": [
    "print(np.unique(X))"
   ]
  },
  {
   "cell_type": "markdown",
   "metadata": {},
   "source": [
    "## Boolean Indexing, Set Operations, and Sorting"
   ]
  },
  {
   "cell_type": "code",
   "execution_count": 76,
   "metadata": {},
   "outputs": [],
   "source": [
    "import numpy as np"
   ]
  },
  {
   "cell_type": "code",
   "execution_count": 77,
   "metadata": {},
   "outputs": [
    {
     "name": "stdout",
     "output_type": "stream",
     "text": [
      "[[ 0  1  2  3  4]\n",
      " [ 5  6  7  8  9]\n",
      " [10 11 12 13 14]\n",
      " [15 16 17 18 19]\n",
      " [20 21 22 23 24]]\n"
     ]
    }
   ],
   "source": [
    "# boolean indexing\n",
    "X = np.arange(25).reshape(5,5)\n",
    "print(X)"
   ]
  },
  {
   "cell_type": "code",
   "execution_count": 79,
   "metadata": {},
   "outputs": [
    {
     "name": "stdout",
     "output_type": "stream",
     "text": [
      "[[False False False False False]\n",
      " [False False False False False]\n",
      " [False  True  True  True  True]\n",
      " [ True  True  True  True  True]\n",
      " [ True  True  True  True  True]]\n"
     ]
    }
   ],
   "source": [
    "print(X|X > 10)"
   ]
  },
  {
   "cell_type": "code",
   "execution_count": 83,
   "metadata": {},
   "outputs": [
    {
     "name": "stdout",
     "output_type": "stream",
     "text": [
      "[11 12 13 14 15 16 17 18 19]\n"
     ]
    }
   ],
   "source": [
    "print(X[(X > 10) & (X < 20)])"
   ]
  },
  {
   "cell_type": "code",
   "execution_count": 110,
   "metadata": {},
   "outputs": [
    {
     "name": "stdout",
     "output_type": "stream",
     "text": [
      "[[ 1  2  3  4  5]\n",
      " [ 6  7  8  9 10]\n",
      " [11 12 13 14 15]\n",
      " [16 17 18 19 20]\n",
      " [21 22 23 24 25]]\n",
      "[ 2  4  6  8 10 12 14 16 18 20 22 24]\n"
     ]
    }
   ],
   "source": [
    "T = np.arange(1,26).reshape(5,5)\n",
    "print(T)\n",
    "\n",
    "print(T[T % 2 < 1])"
   ]
  },
  {
   "cell_type": "markdown",
   "metadata": {},
   "source": [
    "## Arithmetic operations and Broadcasting"
   ]
  },
  {
   "cell_type": "code",
   "execution_count": 116,
   "metadata": {},
   "outputs": [
    {
     "name": "stdout",
     "output_type": "stream",
     "text": [
      "[1 2 3 4]\n",
      "[5 6 7 8]\n"
     ]
    }
   ],
   "source": [
    "import numpy as np\n",
    "\n",
    "x = np.array([1,2,3,4])\n",
    "y = np.array([5,6,7,8])\n",
    "print(x)\n",
    "print(y)"
   ]
  },
  {
   "cell_type": "code",
   "execution_count": 117,
   "metadata": {},
   "outputs": [
    {
     "name": "stdout",
     "output_type": "stream",
     "text": [
      "[ 6  8 10 12]\n",
      "[ 6  8 10 12]\n"
     ]
    }
   ],
   "source": [
    "# elementwise operation\n",
    "print(x + y)\n",
    "print(np.add(x,y))"
   ]
  },
  {
   "cell_type": "code",
   "execution_count": 167,
   "metadata": {},
   "outputs": [
    {
     "name": "stdout",
     "output_type": "stream",
     "text": [
      "[-4 -4 -4 -4]\n",
      "[-4 -4 -4 -4]\n",
      "[ 5 12 21 32]\n",
      "[ 5 12 21 32]\n",
      "[ 0.2         0.33333333  0.42857143  0.5       ]\n",
      "[ 0.2         0.33333333  0.42857143  0.5       ]\n"
     ]
    }
   ],
   "source": [
    "print(x - y)\n",
    "print(np.subtract(x,y))\n",
    "print(x * y)\n",
    "print(np.multiply(x,y))\n",
    "print(x / y)\n",
    "print(np.divide(x,y))\n"
   ]
  },
  {
   "cell_type": "code",
   "execution_count": 119,
   "metadata": {},
   "outputs": [
    {
     "name": "stdout",
     "output_type": "stream",
     "text": [
      "[[1 2]\n",
      " [3 4]]\n"
     ]
    }
   ],
   "source": [
    "X = np.array([1,2,3,4]).reshape(2,2)\n",
    "print(X)"
   ]
  },
  {
   "cell_type": "code",
   "execution_count": 120,
   "metadata": {},
   "outputs": [
    {
     "name": "stdout",
     "output_type": "stream",
     "text": [
      "[[5 6]\n",
      " [7 8]]\n"
     ]
    }
   ],
   "source": [
    "Y = np.array([5,6,7,8]).reshape(2,2)\n",
    "print(Y)"
   ]
  },
  {
   "cell_type": "code",
   "execution_count": 121,
   "metadata": {},
   "outputs": [
    {
     "name": "stdout",
     "output_type": "stream",
     "text": [
      "[[ 0.2         0.33333333]\n",
      " [ 0.42857143  0.5       ]]\n"
     ]
    }
   ],
   "source": [
    "print(X / Y)"
   ]
  },
  {
   "cell_type": "code",
   "execution_count": 123,
   "metadata": {},
   "outputs": [
    {
     "name": "stdout",
     "output_type": "stream",
     "text": [
      "[ 1.          1.41421356  1.73205081  2.        ]\n",
      "[  2.71828183   7.3890561   20.08553692  54.59815003]\n",
      "[ 1  4  9 16]\n"
     ]
    }
   ],
   "source": [
    "print(np.sqrt(x))\n",
    "print(np.exp(x))\n",
    "print(np.power(x,2))"
   ]
  },
  {
   "cell_type": "code",
   "execution_count": 125,
   "metadata": {},
   "outputs": [
    {
     "name": "stdout",
     "output_type": "stream",
     "text": [
      "[[1 2]\n",
      " [3 4]]\n"
     ]
    }
   ],
   "source": [
    "print(X)"
   ]
  },
  {
   "cell_type": "code",
   "execution_count": 127,
   "metadata": {},
   "outputs": [
    {
     "name": "stdout",
     "output_type": "stream",
     "text": [
      "Average of all numbers: 2.5\n"
     ]
    }
   ],
   "source": [
    "print(\"Average of all numbers:\", X.mean())"
   ]
  },
  {
   "cell_type": "code",
   "execution_count": 128,
   "metadata": {},
   "outputs": [
    {
     "name": "stdout",
     "output_type": "stream",
     "text": [
      "Average of all columns: [ 2.  3.]\n",
      "Average of all rows: [ 1.5  3.5]\n"
     ]
    }
   ],
   "source": [
    "print(\"Average of all columns:\", X.mean(axis=0))\n",
    "print(\"Average of all rows:\", X.mean(axis=1))"
   ]
  },
  {
   "cell_type": "code",
   "execution_count": 129,
   "metadata": {},
   "outputs": [
    {
     "name": "stdout",
     "output_type": "stream",
     "text": [
      "[[3 4]\n",
      " [5 6]]\n"
     ]
    }
   ],
   "source": [
    "# add to every element (broadcasting)\n",
    "print(2 + X)"
   ]
  },
  {
   "cell_type": "code",
   "execution_count": 146,
   "metadata": {},
   "outputs": [
    {
     "name": "stdout",
     "output_type": "stream",
     "text": [
      "[[0 1]\n",
      " [2 3]]\n",
      "[1 1]\n",
      "Broadcasing:\n",
      "[[1 2]\n",
      " [3 4]]\n"
     ]
    }
   ],
   "source": [
    "ff = np.arange(4).reshape(2,2)\n",
    "gg = np.array([1,1])\n",
    "print(ff)\n",
    "print(gg)\n",
    "\n",
    "print(\"Broadcasing:\")\n",
    "print(ff + gg)"
   ]
  },
  {
   "cell_type": "code",
   "execution_count": 152,
   "metadata": {},
   "outputs": [
    {
     "name": "stdout",
     "output_type": "stream",
     "text": [
      "[[1 1 1]\n",
      " [1 1 1]\n",
      " [1 1 1]]\n"
     ]
    }
   ],
   "source": [
    "ii = np.array([1,1,1,1,1,1,1,1,1]).reshape(3,3)\n",
    "print(ii)"
   ]
  },
  {
   "cell_type": "code",
   "execution_count": 156,
   "metadata": {},
   "outputs": [
    {
     "name": "stdout",
     "output_type": "stream",
     "text": [
      "[[1]\n",
      " [2]\n",
      " [3]]\n"
     ]
    }
   ],
   "source": [
    "jj = np.array([1,2,3]).reshape(3,1)\n",
    "print(jj)"
   ]
  },
  {
   "cell_type": "code",
   "execution_count": 157,
   "metadata": {},
   "outputs": [
    {
     "name": "stdout",
     "output_type": "stream",
     "text": [
      "[[2 2 2]\n",
      " [3 3 3]\n",
      " [4 4 4]]\n"
     ]
    }
   ],
   "source": [
    "print(ii + jj)"
   ]
  },
  {
   "cell_type": "code",
   "execution_count": 162,
   "metadata": {},
   "outputs": [
    {
     "name": "stdout",
     "output_type": "stream",
     "text": [
      "[[1 2 3 4]\n",
      " [1 2 3 4]\n",
      " [1 2 3 4]\n",
      " [1 2 3 4]]\n"
     ]
    }
   ],
   "source": [
    "X = np.full((4,4), 0) + np.array([1,2,3,4])\n",
    "print(X)"
   ]
  },
  {
   "cell_type": "markdown",
   "metadata": {},
   "source": [
    "# mean normalization\n",
    "Therefore, when you perform mean normalization your data will not only be scaled but it will also have an average of zero."
   ]
  },
  {
   "cell_type": "code",
   "execution_count": 180,
   "metadata": {},
   "outputs": [
    {
     "name": "stdout",
     "output_type": "stream",
     "text": [
      "[[4281 2373 2764 3742  381 2246 2547 4704 2485  662]\n",
      " [4858 2164 3738 1470 3643 4116 2863 3891 1485 3426]\n",
      " [4205  737 3509 3375 3226 3972 1215 4522 1885 1711]\n",
      " [4497 1948 2841 2307 4465 4804 3735  928 2845 3533]\n",
      " [1582 3670 4196 4086  838 2407 1100  573 4562 3149]\n",
      " [2489 3336 3144  441 3746 4258 3840  745 3197 2616]\n",
      " [4131 2957 3821  465 1321 2692 1065 4465 1154 4063]\n",
      " [3576 3800 2843 1097 1111  234 1430 2881  184 3344]\n",
      " [1773 3177   54 1536 3900 4371 4676 1773 4391 2519]\n",
      " [ 674 1577 3205  435 2401 1858 1097 4856 4444  181]]\n"
     ]
    }
   ],
   "source": [
    "X = np.random.randint(5000, size=(10,10))\n",
    "print(X)"
   ]
  },
  {
   "cell_type": "code",
   "execution_count": 181,
   "metadata": {},
   "outputs": [
    {
     "name": "stdout",
     "output_type": "stream",
     "text": [
      "[ 3206.6  2573.9  3011.5  1895.4  2503.2  3095.8  2356.8  2933.8  2663.2\n",
      "  2520.4]\n"
     ]
    }
   ],
   "source": [
    "print(X.mean(axis=0)) # avg of columns"
   ]
  },
  {
   "cell_type": "code",
   "execution_count": 182,
   "metadata": {},
   "outputs": [
    {
     "name": "stdout",
     "output_type": "stream",
     "text": [
      "[ 3206.6  2573.9  3011.5  1895.4  2503.2  3095.8  2356.8  2933.8  2663.2\n",
      "  2520.4]\n",
      "[ 1384.12103517   936.17246808  1084.16615424  1334.50209442  1406.7242658\n",
      "  1370.58504297  1294.93148854  1683.72639107  1432.81539634  1220.21524331]\n"
     ]
    }
   ],
   "source": [
    "# Average of the values in each column of X\n",
    "ave_cols = X.mean(axis=0)\n",
    "\n",
    "# Standard Deviation of the values in each column of X\n",
    "std_cols = X.std(axis=0)\n",
    "\n",
    "print(ave_cols)\n",
    "print(std_cols)"
   ]
  },
  {
   "cell_type": "code",
   "execution_count": 183,
   "metadata": {},
   "outputs": [
    {
     "ename": "SyntaxError",
     "evalue": "invalid syntax (<ipython-input-183-7dea2e353f31>, line 2)",
     "output_type": "error",
     "traceback": [
      "\u001b[0;36m  File \u001b[0;32m\"<ipython-input-183-7dea2e353f31>\"\u001b[0;36m, line \u001b[0;32m2\u001b[0m\n\u001b[0;31m    (/X_norm, =, (X, -, ave_cols), /, std_cols)\u001b[0m\n\u001b[0m     ^\u001b[0m\n\u001b[0;31mSyntaxError\u001b[0m\u001b[0;31m:\u001b[0m invalid syntax\n"
     ]
    }
   ],
   "source": [
    "# substract the mean from each column then divide by the standard deviation\n",
    "//X_norm = (X - ave_cols) / std_cols\n",
    "print(X)\n",
    "//print(X_norm)"
   ]
  },
  {
   "cell_type": "code",
   "execution_count": 190,
   "metadata": {},
   "outputs": [
    {
     "name": "stdout",
     "output_type": "stream",
     "text": [
      "[[1 2 3 4]\n",
      " [2 3 4 5]\n",
      " [1 2 3 4]\n",
      " [2 3 4 5]]\n"
     ]
    }
   ],
   "source": [
    "X = np.array([[1,2,3,4],[2,3,4,5],[1,2,3,4],[2,3,4,5]])\n",
    "print(X)"
   ]
  },
  {
   "cell_type": "code",
   "execution_count": 191,
   "metadata": {},
   "outputs": [
    {
     "name": "stdout",
     "output_type": "stream",
     "text": [
      "[1 2 3 4]\n"
     ]
    }
   ],
   "source": [
    "# min value of each column\n",
    "print(X.min(axis=0))"
   ]
  },
  {
   "cell_type": "code",
   "execution_count": 192,
   "metadata": {},
   "outputs": [
    {
     "name": "stdout",
     "output_type": "stream",
     "text": [
      "[4 5 4 5]\n"
     ]
    }
   ],
   "source": [
    "# max value of each row\n",
    "print(X.max(axis=1))"
   ]
  },
  {
   "cell_type": "code",
   "execution_count": 194,
   "metadata": {},
   "outputs": [
    {
     "name": "stdout",
     "output_type": "stream",
     "text": [
      "2.5\n"
     ]
    }
   ],
   "source": [
    "\n",
    "print(\"Average min value of each column:\",X.min(axis=0).mean())\n",
    "print(\"Average max value of each column:\",X.max(axis=0).mean())"
   ]
  },
  {
   "cell_type": "code",
   "execution_count": null,
   "metadata": {},
   "outputs": [],
   "source": []
  }
 ],
 "metadata": {
  "kernelspec": {
   "display_name": "Python [conda env:anaconda3]",
   "language": "python",
   "name": "conda-env-anaconda3-py"
  },
  "language_info": {
   "codemirror_mode": {
    "name": "ipython",
    "version": 3
   },
   "file_extension": ".py",
   "mimetype": "text/x-python",
   "name": "python",
   "nbconvert_exporter": "python",
   "pygments_lexer": "ipython3",
   "version": "3.6.5"
  }
 },
 "nbformat": 4,
 "nbformat_minor": 2
}
