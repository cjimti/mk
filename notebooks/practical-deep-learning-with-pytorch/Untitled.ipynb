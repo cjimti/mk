{
 "cells": [
  {
   "cell_type": "markdown",
   "metadata": {},
   "source": [
    "## Logistic Regression with PyTorch\n",
    "\n",
    "Linear Regression\n",
    "- output: numeric value given inputs\n",
    "- minimize the error between points and line\n",
    "\n",
    "Logistic regression\n",
    "- output: proabability 0,1 given input belonging to a class\n",
    "\n"
   ]
  },
  {
   "cell_type": "code",
   "execution_count": 5,
   "metadata": {},
   "outputs": [],
   "source": [
    "# Imports\n",
    "import numpy as np\n",
    "import matplotlib.pyplot as plt"
   ]
  },
  {
   "cell_type": "code",
   "execution_count": 54,
   "metadata": {},
   "outputs": [
    {
     "name": "stdout",
     "output_type": "stream",
     "text": [
      "From 1, 5.43656365691809\n",
      "From 5, 296.8263182051532\n",
      "From 10, 44052.931589613436\n",
      "From 25, 144009798674.77176\n",
      "From 50, 1.0369411057174144e+22\n",
      "From 70, 5.030877341838334e+30\n",
      "From 75, 7.466483993598003e+32\n",
      "From 100, 5.376234283632271e+43\n"
     ]
    },
    {
     "data": {
      "image/png": "[encoded data removed]",
      "text/plain": [
       "<Figure size 432x288 with 1 Axes>"
      ]
     },
     "metadata": {},
     "output_type": "display_data"
    }
   ],
   "source": [
    "x = [1, 5, 10, 10, 25, 50, 70, 75, 100]\n",
    "y = [0, 0, 0, 0, 0, 1, 1, 1, 1]\n",
    "\n",
    "colors = np.random.rand(len(x))\n",
    "\n",
    "ux = np.unique(x)\n",
    "\n",
    "p1d = np.poly1d(np.polyfit(x,y, 1))\n",
    "\n",
    "ux2 = np.exp(ux) * 2\n",
    "\n",
    "for x, y in zip(ux,ux2):\n",
    "    print(f'From {x}, {y}')\n",
    "\n",
    "\n",
    "\n",
    "plt.plot(ux,ux2, linewidth=2.0)\n",
    "\n",
    "#plt.scatter(x, y, c=colors, alpha=0.5)\n",
    "plt.show()"
   ]
  },
  {
   "cell_type": "code",
   "execution_count": null,
   "metadata": {},
   "outputs": [],
   "source": []
  }
 ],
 "metadata": {
  "kernelspec": {
   "display_name": "Python [conda env:anaconda3]",
   "language": "python",
   "name": "conda-env-anaconda3-py"
  },
  "language_info": {
   "codemirror_mode": {
    "name": "ipython",
    "version": 3
   },
   "file_extension": ".py",
   "mimetype": "text/x-python",
   "name": "python",
   "nbconvert_exporter": "python",
   "pygments_lexer": "ipython3",
   "version": "3.6.5"
  }
 },
 "nbformat": 4,
 "nbformat_minor": 2
}
