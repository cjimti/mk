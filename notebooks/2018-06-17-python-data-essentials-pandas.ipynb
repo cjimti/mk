{
 "cells": [
  {
   "cell_type": "raw",
   "metadata": {},
   "source": [
    "---\n",
    "published: true\n",
    "layout: post\n",
    "title: Python Data Essentials - Pandas\n",
    "tags: coding python\n",
    "featured: python coding\n",
    "mast: columns\n",
    "---"
   ]
  },
  {
   "cell_type": "markdown",
   "metadata": {},
   "source": [
    "[Pandas] bring Python a data type equivalent to super-charged spreadsheets. Pandas add two highly expressive data structures to Python, [Series] and [DataFrame]. Pandas [Series] and [DataFrame]s provide a performant analysis and manipulation of “relational” or “labeled” data similar to relational database tables like MySQL or the rows and columns of Excel. [Pandas] are great for working with time series data as well as arbitrary matrix data, and unlabeled data.\n",
    "\n",
    "[Pandas] leverage [NumPy] and if you are not familiar with this fundamental library for working with numbers, then I suggest you take a look at [Python Data Essentials - NumPy][Numpy] to get a decent footing.\n",
    "\n",
    "[Series]: https://pandas.pydata.org/pandas-docs/stable/generated/pandas.Series.html\n",
    "[DataFrame]: https://pandas.pydata.org/pandas-docs/stable/generated/pandas.DataFrame.html\n",
    "[NumPy]: https://mk.imti.co/python-data-essentials-numpy/\n",
    "[Pandas]:https://pandas.pydata.org/"
   ]
  },
  {
   "cell_type": "markdown",
   "metadata": {},
   "source": [
    "**Quick reference to the examples below:**\n",
    "\n",
    "* Do not remove this line (for toc on a rendered blog)\n",
    "{:toc}\n",
    "\n",
    "If you want to go beyond this brief overview of [Pandas] I suggest the following resources:\n",
    "\n",
    "- [10 Minutes to pandas] - Official\n",
    "- [Official Tutorials]\n",
    "- [Data Analysis with Python and Pandas Tutorial Introduction] - Video\n",
    "\n",
    "[Data Analysis with Python and Pandas Tutorial Introduction]:https://www.youtube.com/watch?v=Iqjy9UqKKuo\n",
    "[Official Tutorials]:http://pandas.pydata.org/pandas-docs/stable/tutorials.html\n",
    "[10 Minutes to pandas]:http://pandas.pydata.org/pandas-docs/stable/10min.html\n",
    "\n",
    "## Getting Started\n",
    "\n",
    "In this article, I'll be working with [Pandas] version 0.22.0. If you are running a newer version, there is a possibility of interfaces changing or functionality being deprecated or replaced. I these cases a quick review of the official documentation should suffice."
   ]
  },
  {
   "cell_type": "code",
   "execution_count": 88,
   "metadata": {},
   "outputs": [
    {
     "name": "stdout",
     "output_type": "stream",
     "text": [
      "# packages in environment at /Users/cjimti/anaconda3:\r\n",
      "#\r\n",
      "# Name                    Version                   Build  Channel\r\n",
      "pandas                    0.22.0           py36h0a44026_0  \r\n"
     ]
    }
   ],
   "source": [
    "!conda list pandas"
   ]
  },
  {
   "cell_type": "markdown",
   "metadata": {},
   "source": [
    "## Series\n",
    "\n",
    "[Series] data structures support integer and label based indexing. \n",
    "\n",
    "> One-dimensional ndarray with axis labels (including time series).\n",
    "\n",
    "- [Series] official documentation\n",
    "\n",
    "[Series]: https://pandas.pydata.org/pandas-docs/stable/generated/pandas.Series.html"
   ]
  },
  {
   "cell_type": "code",
   "execution_count": 89,
   "metadata": {},
   "outputs": [
    {
     "name": "stdout",
     "output_type": "stream",
     "text": [
      "Series: \n",
      "Name     Orange Pi Plus\n",
      "CPU       ARM Cortex-A7\n",
      "GHz               1.536\n",
      "Cores                 4\n",
      "Ram                1046\n",
      "Own                   2\n",
      "dtype: object\n",
      "\n",
      "     Shape: (6,)\n",
      "Dimensions: 1\n",
      "      Size: 6\n"
     ]
    }
   ],
   "source": [
    "import pandas as pd\n",
    "\n",
    "fields = ['Name','CPU', 'GHz', 'Cores','Ram','Own']\n",
    "b1 = ['Orange Pi Plus','ARM Cortex-A7',1.536,4,1046,2]\n",
    "board = pd.Series(data=b1, index = fields)\n",
    "\n",
    "print(f'Series: \\n{board}\\n')\n",
    "print(f'     Shape: {board.shape}')\n",
    "print(f'Dimensions: {board.ndim}')\n",
    "print(f'      Size: {board.size}')"
   ]
  },
  {
   "cell_type": "code",
   "execution_count": 90,
   "metadata": {},
   "outputs": [
    {
     "name": "stdout",
     "output_type": "stream",
     "text": [
      "Do we have GPU data? False\n",
      "Do we have CPU data? True\n"
     ]
    }
   ],
   "source": [
    "# check for label\n",
    "print(f'Do we have GPU data? {\"GPU\" in board}')\n",
    "print(f'Do we have CPU data? {\"CPU\" in board}')"
   ]
  },
  {
   "cell_type": "markdown",
   "metadata": {},
   "source": [
    "### Accessing and Deleting Elements\n",
    "\n",
    "- [pandas.DataFrame.iloc] - explicit selection by integer-index\n",
    "- [pandas.DataFrame.loc] - explicit selection by label\n",
    "- [pandas.Series.drop] - return Series with specified index labels removed.\n",
    "- [Indexing and Selecting Data] official documentation.\n",
    "\n",
    "[pandas.DataFrame.iloc]:http://pandas.pydata.org/pandas-docs/version/0.22/generated/pandas.DataFrame.iloc.html\n",
    "[pandas.DataFrame.loc]: http://pandas.pydata.org/pandas-docs/version/0.22/generated/pandas.DataFrame.loc.html\n",
    "[pandas.Series.drop]:https://pandas.pydata.org/pandas-docs/stable/generated/pandas.Series.drop.html\n",
    "[Indexing and Selecting Data]:https://pandas.pydata.org/pandas-docs/stable/indexing.html"
   ]
  },
  {
   "cell_type": "code",
   "execution_count": 91,
   "metadata": {},
   "outputs": [
    {
     "name": "stdout",
     "output_type": "stream",
     "text": [
      "The Orange Pi Plus runs at 1.536 GHz.\n",
      "The Orange Pi Plus has 4 cores.\n",
      "The Orange Pi Plus has 2 megabytes of ram.\n"
     ]
    }
   ],
   "source": [
    "print(f'The {board[\"Name\"]} runs at {board[\"GHz\"]} GHz.')\n",
    "print(f'The {board[0]} has {board[3]} cores.')\n",
    "print(f'The {board[0]} has {board[-1]:,} megabytes of ram.')"
   ]
  },
  {
   "cell_type": "code",
   "execution_count": 92,
   "metadata": {},
   "outputs": [
    {
     "name": "stdout",
     "output_type": "stream",
     "text": [
      "Series: \n",
      "CPU      ARM Cortex-A7\n",
      "Cores                4\n",
      "dtype: object\n",
      "\n",
      "     Shape: (2,)\n",
      "Dimensions: 1\n",
      "      Size: 2\n"
     ]
    }
   ],
   "source": [
    "# select specific columns\n",
    "cc = board[[\"CPU\",\"Cores\"]]\n",
    "\n",
    "print(f'Series: \\n{cc}\\n')\n",
    "print(f'     Shape: {cc.shape}')\n",
    "print(f'Dimensions: {cc.ndim}')\n",
    "print(f'      Size: {cc.size}')"
   ]
  },
  {
   "cell_type": "code",
   "execution_count": 93,
   "metadata": {},
   "outputs": [
    {
     "name": "stdout",
     "output_type": "stream",
     "text": [
      "Series: \n",
      "Name    Orange Pi Plus\n",
      "CPU      ARM Cortex-A7\n",
      "GHz              1.536\n",
      "Ram               1046\n",
      "Own                  2\n",
      "dtype: object\n",
      "\n",
      "     Shape: (5,)\n",
      "Dimensions: 1\n",
      "      Size: 5\n"
     ]
    }
   ],
   "source": [
    "# remove a column return or inplace=True\n",
    "nb = board.drop(\"Cores\")\n",
    "\n",
    "print(f'Series: \\n{nb}\\n')\n",
    "print(f'     Shape: {nb.shape}')\n",
    "print(f'Dimensions: {nb.ndim}')\n",
    "print(f'      Size: {nb.size}')"
   ]
  },
  {
   "cell_type": "code",
   "execution_count": 94,
   "metadata": {},
   "outputs": [
    {
     "name": "stdout",
     "output_type": "stream",
     "text": [
      "Series: \n",
      "Orange Pi Plus       1\n",
      "Raspberry Pi 3       3\n",
      "Asus Tinker Board    2\n",
      "dtype: int64\n",
      "\n"
     ]
    }
   ],
   "source": [
    "inventory = pd.Series([1,3,2],['Orange Pi Plus', 'Raspberry Pi 3', 'Asus Tinker Board'])\n",
    "print(f'Series: \\n{inventory}\\n')"
   ]
  },
  {
   "cell_type": "code",
   "execution_count": 95,
   "metadata": {
    "scrolled": true
   },
   "outputs": [
    {
     "name": "stdout",
     "output_type": "stream",
     "text": [
      "Add 1 to all values: \n",
      "Orange Pi Plus       2\n",
      "Raspberry Pi 3       4\n",
      "Asus Tinker Board    3\n",
      "dtype: int64\n",
      "\n"
     ]
    }
   ],
   "source": [
    "inventory = inventory.add(1)\n",
    "print(f'Add 1 to all values: \\n{inventory}\\n')"
   ]
  },
  {
   "cell_type": "markdown",
   "metadata": {},
   "source": [
    "#### [NumPy] on [Series] data.\n",
    "\n",
    "[NumPy]: https://mk.imti.co/python-data-essentials-numpy/\n",
    "[Series]: https://pandas.pydata.org/pandas-docs/stable/generated/pandas.Series.html"
   ]
  },
  {
   "cell_type": "code",
   "execution_count": 96,
   "metadata": {},
   "outputs": [],
   "source": [
    "import numpy as np"
   ]
  },
  {
   "cell_type": "code",
   "execution_count": 97,
   "metadata": {},
   "outputs": [
    {
     "name": "stdout",
     "output_type": "stream",
     "text": [
      "Square root of each item: \n",
      "Orange Pi Plus       1.414214\n",
      "Raspberry Pi 3       2.000000\n",
      "Asus Tinker Board    1.732051\n",
      "dtype: float64\n",
      "\n",
      "Each item to the power of 2: \n",
      "Orange Pi Plus        4\n",
      "Raspberry Pi 3       16\n",
      "Asus Tinker Board     9\n",
      "dtype: int64\n",
      "\n"
     ]
    }
   ],
   "source": [
    "print(f'Square root of each item: \\n{np.sqrt(inventory)}\\n')\n",
    "print(f'Each item to the power of 2: \\n{np.power(inventory,2)}\\n')"
   ]
  },
  {
   "cell_type": "code",
   "execution_count": 98,
   "metadata": {},
   "outputs": [
    {
     "data": {
      "text/plain": [
       "Orange Pi Plus       4\n",
       "Asus Tinker Board    6\n",
       "dtype: int64"
      ]
     },
     "execution_count": 98,
     "metadata": {},
     "output_type": "execute_result"
    }
   ],
   "source": [
    "# Orange Pi Plus and Asus Tinker Boards\n",
    "inventory[['Orange Pi Plus', 'Asus Tinker Board']] * 2"
   ]
  },
  {
   "cell_type": "markdown",
   "metadata": {},
   "source": [
    "### Arithmetic on Series Data"
   ]
  },
  {
   "cell_type": "code",
   "execution_count": 99,
   "metadata": {},
   "outputs": [
    {
     "name": "stdout",
     "output_type": "stream",
     "text": [
      "All: \n",
      "a      1\n",
      "b     10\n",
      "c    100\n",
      "dtype: int64\n",
      "\n",
      "Greater than 1: \n",
      "b     10\n",
      "c    100\n",
      "dtype: int64\n",
      "\n"
     ]
    }
   ],
   "source": [
    "containers = ['a','b','c']\n",
    "items = [1,10,100]\n",
    "\n",
    "item_containers = pd.Series(index=containers, data=items)\n",
    "\n",
    "print(f'All: \\n{item_containers}\\n')\n",
    "print(f'Greater than 1: \\n{item_containers[item_containers > 1]}\\n')"
   ]
  },
  {
   "cell_type": "code",
   "execution_count": 100,
   "metadata": {},
   "outputs": [
    {
     "name": "stdout",
     "output_type": "stream",
     "text": [
      "All: \n",
      "a     11\n",
      "b     10\n",
      "c    100\n",
      "dtype: int64\n",
      "\n"
     ]
    }
   ],
   "source": [
    "# add 10 items to a\n",
    "item_containers = item_containers.add([10,0,0])\n",
    "print(f'All: \\n{item_containers}\\n')"
   ]
  },
  {
   "cell_type": "code",
   "execution_count": 101,
   "metadata": {},
   "outputs": [
    {
     "name": "stdout",
     "output_type": "stream",
     "text": [
      "Half: \n",
      "a     5.5\n",
      "b     5.0\n",
      "c    50.0\n",
      "dtype: float64\n",
      "\n"
     ]
    }
   ],
   "source": [
    "half_containers = item_containers / 2\n",
    "print(f'Half: \\n{half_containers}\\n')"
   ]
  },
  {
   "cell_type": "markdown",
   "metadata": {},
   "source": [
    "## [DataFrames]\n",
    "\n",
    "[DataFrames] are the central feature of [Pandas], a dictionary like data object. \n",
    "\n",
    "> Two-dimensional size-mutable, potentially heterogeneous tabular data structure with labeled axes (rows and columns). Arithmetic operations align on both row and column labels. Can be thought of as a dict-like container for Series objects. The primary pandas data structure.\n",
    "\n",
    "- [pandas.DataFrame][DataFrames] official documentation.\n",
    "\n",
    "[Pandas]:https://pandas.pydata.org/\n",
    "[DataFrames]:https://pandas.pydata.org/pandas-docs/stable/generated/pandas.DataFrame.html"
   ]
  },
  {
   "cell_type": "code",
   "execution_count": 102,
   "metadata": {},
   "outputs": [],
   "source": [
    "import pandas as pd"
   ]
  },
  {
   "cell_type": "markdown",
   "metadata": {},
   "source": [
    "### Creating"
   ]
  },
  {
   "cell_type": "markdown",
   "metadata": {},
   "source": [
    "[Pandas] can create a [DataFrame] from a [NumPy] ndarray (structured or homogeneous), dict, or another DataFrame. A DataFrame with a Python [Dict] can contain [Series], arrays, constants, or list-like objects.\n",
    "\n",
    "In the example below I create a [dictionary][Dict] that maps three indexes to three varied data sets. The fictional AI machines 'hal', 'johnny 5' and 'bender' all have different attributes with some overlap. Each of the dictionary keys contains a Pandas Series object. However, they may contain any list-like objects.\n",
    "\n",
    "[Dict]:http://www.pythonforbeginners.com/dictionary/how-to-use-dictionaries-in-python"
   ]
  },
  {
   "cell_type": "code",
   "execution_count": 103,
   "metadata": {},
   "outputs": [
    {
     "data": {
      "text/html": [
       "<div>\n",
       "<style scoped>\n",
       "    .dataframe tbody tr th:only-of-type {\n",
       "        vertical-align: middle;\n",
       "    }\n",
       "\n",
       "    .dataframe tbody tr th {\n",
       "        vertical-align: top;\n",
       "    }\n",
       "\n",
       "    .dataframe thead th {\n",
       "        text-align: right;\n",
       "    }\n",
       "</style>\n",
       "<table border=\"1\" class=\"dataframe\">\n",
       "  <thead>\n",
       "    <tr style=\"text-align: right;\">\n",
       "      <th></th>\n",
       "      <th>bender</th>\n",
       "      <th>hal</th>\n",
       "      <th>johnny 5</th>\n",
       "    </tr>\n",
       "  </thead>\n",
       "  <tbody>\n",
       "    <tr>\n",
       "      <th>bending</th>\n",
       "      <td>100</td>\n",
       "      <td>NaN</td>\n",
       "      <td>2.0</td>\n",
       "    </tr>\n",
       "    <tr>\n",
       "      <th>dangerous</th>\n",
       "      <td>50</td>\n",
       "      <td>90.0</td>\n",
       "      <td>12.0</td>\n",
       "    </tr>\n",
       "    <tr>\n",
       "      <th>humor</th>\n",
       "      <td>50</td>\n",
       "      <td>NaN</td>\n",
       "      <td>5.0</td>\n",
       "    </tr>\n",
       "    <tr>\n",
       "      <th>intellect</th>\n",
       "      <td>20</td>\n",
       "      <td>100.0</td>\n",
       "      <td>NaN</td>\n",
       "    </tr>\n",
       "  </tbody>\n",
       "</table>\n",
       "</div>"
      ],
      "text/plain": [
       "           bender    hal  johnny 5\n",
       "bending       100    NaN       2.0\n",
       "dangerous      50   90.0      12.0\n",
       "humor          50    NaN       5.0\n",
       "intellect      20  100.0       NaN"
      ]
     },
     "execution_count": 103,
     "metadata": {},
     "output_type": "execute_result"
    }
   ],
   "source": [
    "ai = {'hal': pd.Series(data = [100, 90], index = ['intellect', 'dangerous']),\n",
    "      'johnny 5': pd.Series(data = [12, 5, 2], index = ['dangerous','humor','bending']),\n",
    "      'bender': pd.Series(data = [20, 50, 50, 100], index = ['intellect', 'dangerous', 'humor', 'bending'])}\n",
    "\n",
    "df_ai = pd.DataFrame(ai)\n",
    "df_ai"
   ]
  },
  {
   "cell_type": "code",
   "execution_count": 104,
   "metadata": {},
   "outputs": [
    {
     "name": "stdout",
     "output_type": "stream",
     "text": [
      "     Shape: (4, 3)\n",
      "Dimensions: 2\n",
      "      Size: 12\n",
      "Total NaNs: 3\n",
      "NaN Counts: \n",
      "bender      0\n",
      "hal         2\n",
      "johnny 5    1\n",
      "dtype: int64\n",
      "\n"
     ]
    }
   ],
   "source": [
    "print(f'     Shape: {df_ai.shape}')\n",
    "print(f'Dimensions: {df_ai.ndim}')\n",
    "print(f'      Size: {df_ai.size}')\n",
    "print(f'Total NaNs: {df_ai.isnull().sum().sum()}')\n",
    "print(f'NaN Counts: \\n{df_ai.isnull().sum()}\\n')\n"
   ]
  },
  {
   "cell_type": "code",
   "execution_count": 105,
   "metadata": {},
   "outputs": [
    {
     "name": "stdout",
     "output_type": "stream",
     "text": [
      "DataFrame Values: \n",
      "[[ 100.   nan    2.]\n",
      " [  50.   90.   12.]\n",
      " [  50.   nan    5.]\n",
      " [  20.  100.   nan]]\n",
      "\n"
     ]
    }
   ],
   "source": [
    "print(f'DataFrame Values: \\n{df_ai.values}\\n')"
   ]
  },
  {
   "cell_type": "markdown",
   "metadata": {},
   "source": [
    "### Selecting\n",
    "\n",
    "The methods [mask][pandas.DataFrame.mask] and [where][pandas.DataFrame.where] are provided by Panda's [Series] and [DataFrame] data types. See the examples below for some simple examples of value selection using basic arithmatic expressions.\n",
    "\n",
    "- [pandas.DataFrame.mask]\n",
    "- [pandas.DataFrame.where]\n",
    "- [pandas.Series.mask]\n",
    "- [pandas.Series.where]\n",
    "\n",
    "[pandas.DataFrame.mask]:http://pandas.pydata.org/pandas-docs/stable/generated/pandas.DataFrame.mask.html\n",
    "[pandas.Series.mask]:http://pandas.pydata.org/pandas-docs/stable/generated/pandas.Series.mask.html\n",
    "[pandas.DataFrame.where]:http://pandas.pydata.org/pandas-docs/stable/generated/pandas.DataFrame.where.html\n",
    "[pandas.Series.where]:http://pandas.pydata.org/pandas-docs/stable/generated/pandas.Series.where.html"
   ]
  },
  {
   "cell_type": "code",
   "execution_count": 106,
   "metadata": {},
   "outputs": [
    {
     "data": {
      "text/html": [
       "<div>\n",
       "<style scoped>\n",
       "    .dataframe tbody tr th:only-of-type {\n",
       "        vertical-align: middle;\n",
       "    }\n",
       "\n",
       "    .dataframe tbody tr th {\n",
       "        vertical-align: top;\n",
       "    }\n",
       "\n",
       "    .dataframe thead th {\n",
       "        text-align: right;\n",
       "    }\n",
       "</style>\n",
       "<table border=\"1\" class=\"dataframe\">\n",
       "  <thead>\n",
       "    <tr style=\"text-align: right;\">\n",
       "      <th></th>\n",
       "      <th>bender</th>\n",
       "      <th>hal</th>\n",
       "      <th>johnny 5</th>\n",
       "    </tr>\n",
       "  </thead>\n",
       "  <tbody>\n",
       "    <tr>\n",
       "      <th>bending</th>\n",
       "      <td>NaN</td>\n",
       "      <td>NaN</td>\n",
       "      <td>2.0</td>\n",
       "    </tr>\n",
       "    <tr>\n",
       "      <th>dangerous</th>\n",
       "      <td>NaN</td>\n",
       "      <td>NaN</td>\n",
       "      <td>NaN</td>\n",
       "    </tr>\n",
       "    <tr>\n",
       "      <th>humor</th>\n",
       "      <td>NaN</td>\n",
       "      <td>NaN</td>\n",
       "      <td>5.0</td>\n",
       "    </tr>\n",
       "    <tr>\n",
       "      <th>intellect</th>\n",
       "      <td>NaN</td>\n",
       "      <td>NaN</td>\n",
       "      <td>NaN</td>\n",
       "    </tr>\n",
       "  </tbody>\n",
       "</table>\n",
       "</div>"
      ],
      "text/plain": [
       "           bender  hal  johnny 5\n",
       "bending       NaN  NaN       2.0\n",
       "dangerous     NaN  NaN       NaN\n",
       "humor         NaN  NaN       5.0\n",
       "intellect     NaN  NaN       NaN"
      ]
     },
     "execution_count": 106,
     "metadata": {},
     "output_type": "execute_result"
    }
   ],
   "source": [
    "# mask out any data greater than 10\n",
    "df_ai.mask(df_ai > 10)"
   ]
  },
  {
   "cell_type": "code",
   "execution_count": 107,
   "metadata": {},
   "outputs": [
    {
     "data": {
      "text/html": [
       "<div>\n",
       "<style scoped>\n",
       "    .dataframe tbody tr th:only-of-type {\n",
       "        vertical-align: middle;\n",
       "    }\n",
       "\n",
       "    .dataframe tbody tr th {\n",
       "        vertical-align: top;\n",
       "    }\n",
       "\n",
       "    .dataframe thead th {\n",
       "        text-align: right;\n",
       "    }\n",
       "</style>\n",
       "<table border=\"1\" class=\"dataframe\">\n",
       "  <thead>\n",
       "    <tr style=\"text-align: right;\">\n",
       "      <th></th>\n",
       "      <th>bender</th>\n",
       "      <th>hal</th>\n",
       "      <th>johnny 5</th>\n",
       "    </tr>\n",
       "  </thead>\n",
       "  <tbody>\n",
       "    <tr>\n",
       "      <th>bending</th>\n",
       "      <td>100</td>\n",
       "      <td>NaN</td>\n",
       "      <td>NaN</td>\n",
       "    </tr>\n",
       "    <tr>\n",
       "      <th>dangerous</th>\n",
       "      <td>50</td>\n",
       "      <td>90.0</td>\n",
       "      <td>12.0</td>\n",
       "    </tr>\n",
       "    <tr>\n",
       "      <th>humor</th>\n",
       "      <td>50</td>\n",
       "      <td>NaN</td>\n",
       "      <td>NaN</td>\n",
       "    </tr>\n",
       "    <tr>\n",
       "      <th>intellect</th>\n",
       "      <td>20</td>\n",
       "      <td>100.0</td>\n",
       "      <td>NaN</td>\n",
       "    </tr>\n",
       "  </tbody>\n",
       "</table>\n",
       "</div>"
      ],
      "text/plain": [
       "           bender    hal  johnny 5\n",
       "bending       100    NaN       NaN\n",
       "dangerous      50   90.0      12.0\n",
       "humor          50    NaN       NaN\n",
       "intellect      20  100.0       NaN"
      ]
     },
     "execution_count": 107,
     "metadata": {},
     "output_type": "execute_result"
    }
   ],
   "source": [
    "# only return data greater than 10, otherwise NaN\n",
    "df_ai.where(df_ai > 10)"
   ]
  },
  {
   "cell_type": "code",
   "execution_count": 108,
   "metadata": {},
   "outputs": [
    {
     "data": {
      "text/html": [
       "<div>\n",
       "<style scoped>\n",
       "    .dataframe tbody tr th:only-of-type {\n",
       "        vertical-align: middle;\n",
       "    }\n",
       "\n",
       "    .dataframe tbody tr th {\n",
       "        vertical-align: top;\n",
       "    }\n",
       "\n",
       "    .dataframe thead th {\n",
       "        text-align: right;\n",
       "    }\n",
       "</style>\n",
       "<table border=\"1\" class=\"dataframe\">\n",
       "  <thead>\n",
       "    <tr style=\"text-align: right;\">\n",
       "      <th></th>\n",
       "      <th>bender</th>\n",
       "      <th>hal</th>\n",
       "      <th>johnny 5</th>\n",
       "    </tr>\n",
       "  </thead>\n",
       "  <tbody>\n",
       "    <tr>\n",
       "      <th>bending</th>\n",
       "      <td>100</td>\n",
       "      <td>0.0</td>\n",
       "      <td>0.0</td>\n",
       "    </tr>\n",
       "    <tr>\n",
       "      <th>dangerous</th>\n",
       "      <td>50</td>\n",
       "      <td>90.0</td>\n",
       "      <td>12.0</td>\n",
       "    </tr>\n",
       "    <tr>\n",
       "      <th>humor</th>\n",
       "      <td>50</td>\n",
       "      <td>0.0</td>\n",
       "      <td>0.0</td>\n",
       "    </tr>\n",
       "    <tr>\n",
       "      <th>intellect</th>\n",
       "      <td>20</td>\n",
       "      <td>100.0</td>\n",
       "      <td>0.0</td>\n",
       "    </tr>\n",
       "  </tbody>\n",
       "</table>\n",
       "</div>"
      ],
      "text/plain": [
       "           bender    hal  johnny 5\n",
       "bending       100    0.0       0.0\n",
       "dangerous      50   90.0      12.0\n",
       "humor          50    0.0       0.0\n",
       "intellect      20  100.0       0.0"
      ]
     },
     "execution_count": 108,
     "metadata": {},
     "output_type": "execute_result"
    }
   ],
   "source": [
    "# only return data greater than 10, otherwise 0\n",
    "df_ai.where(df_ai > 10, 0)"
   ]
  },
  {
   "cell_type": "markdown",
   "metadata": {},
   "source": [
    "### Modifying\n",
    "\n",
    "The AI bots 'hal', 'johnny 5' and 'bender' share some common attributes, however where they do not, we get **nan** (not a number). Running the AI bot data through any math function would be problematic with the existence of non-numbers. Pandas give us quite a few options.\n",
    "\n",
    "There are many options for cleaning this data. I'll start with removing any rows that contain **nan** values. We can make these adjustments with the optional parameter **inplace=True** if we wanted to modify the DataFrame in place, however for the sake of examples it is better to keep the original in-tact."
   ]
  },
  {
   "cell_type": "code",
   "execution_count": 109,
   "metadata": {},
   "outputs": [
    {
     "data": {
      "text/html": [
       "<div>\n",
       "<style scoped>\n",
       "    .dataframe tbody tr th:only-of-type {\n",
       "        vertical-align: middle;\n",
       "    }\n",
       "\n",
       "    .dataframe tbody tr th {\n",
       "        vertical-align: top;\n",
       "    }\n",
       "\n",
       "    .dataframe thead th {\n",
       "        text-align: right;\n",
       "    }\n",
       "</style>\n",
       "<table border=\"1\" class=\"dataframe\">\n",
       "  <thead>\n",
       "    <tr style=\"text-align: right;\">\n",
       "      <th></th>\n",
       "      <th>bender</th>\n",
       "      <th>hal</th>\n",
       "      <th>johnny 5</th>\n",
       "    </tr>\n",
       "  </thead>\n",
       "  <tbody>\n",
       "    <tr>\n",
       "      <th>dangerous</th>\n",
       "      <td>50</td>\n",
       "      <td>90.0</td>\n",
       "      <td>12.0</td>\n",
       "    </tr>\n",
       "  </tbody>\n",
       "</table>\n",
       "</div>"
      ],
      "text/plain": [
       "           bender   hal  johnny 5\n",
       "dangerous      50  90.0      12.0"
      ]
     },
     "execution_count": 109,
     "metadata": {},
     "output_type": "execute_result"
    }
   ],
   "source": [
    "# return a frame eliminating rows with NaN values\n",
    "df_ai_common_rows = df_ai.dropna(axis=0)\n",
    "df_ai_common_rows"
   ]
  },
  {
   "cell_type": "code",
   "execution_count": 110,
   "metadata": {},
   "outputs": [
    {
     "data": {
      "text/html": [
       "<div>\n",
       "<style scoped>\n",
       "    .dataframe tbody tr th:only-of-type {\n",
       "        vertical-align: middle;\n",
       "    }\n",
       "\n",
       "    .dataframe tbody tr th {\n",
       "        vertical-align: top;\n",
       "    }\n",
       "\n",
       "    .dataframe thead th {\n",
       "        text-align: right;\n",
       "    }\n",
       "</style>\n",
       "<table border=\"1\" class=\"dataframe\">\n",
       "  <thead>\n",
       "    <tr style=\"text-align: right;\">\n",
       "      <th></th>\n",
       "      <th>bender</th>\n",
       "    </tr>\n",
       "  </thead>\n",
       "  <tbody>\n",
       "    <tr>\n",
       "      <th>bending</th>\n",
       "      <td>100</td>\n",
       "    </tr>\n",
       "    <tr>\n",
       "      <th>dangerous</th>\n",
       "      <td>50</td>\n",
       "    </tr>\n",
       "    <tr>\n",
       "      <th>humor</th>\n",
       "      <td>50</td>\n",
       "    </tr>\n",
       "    <tr>\n",
       "      <th>intellect</th>\n",
       "      <td>20</td>\n",
       "    </tr>\n",
       "  </tbody>\n",
       "</table>\n",
       "</div>"
      ],
      "text/plain": [
       "           bender\n",
       "bending       100\n",
       "dangerous      50\n",
       "humor          50\n",
       "intellect      20"
      ]
     },
     "execution_count": 110,
     "metadata": {},
     "output_type": "execute_result"
    }
   ],
   "source": [
    "# return a frame eliminating rows with NaN values\n",
    "df_ai_common_cols = df_ai.dropna(axis=1)\n",
    "df_ai_common_cols"
   ]
  },
  {
   "cell_type": "markdown",
   "metadata": {},
   "source": [
    "Depending on requirements, no data could mean zero in our scale of 0-100. While zero is not a reasonable assumption for our AI bots, it's an easy data fix:"
   ]
  },
  {
   "cell_type": "code",
   "execution_count": 111,
   "metadata": {},
   "outputs": [
    {
     "data": {
      "text/html": [
       "<div>\n",
       "<style scoped>\n",
       "    .dataframe tbody tr th:only-of-type {\n",
       "        vertical-align: middle;\n",
       "    }\n",
       "\n",
       "    .dataframe tbody tr th {\n",
       "        vertical-align: top;\n",
       "    }\n",
       "\n",
       "    .dataframe thead th {\n",
       "        text-align: right;\n",
       "    }\n",
       "</style>\n",
       "<table border=\"1\" class=\"dataframe\">\n",
       "  <thead>\n",
       "    <tr style=\"text-align: right;\">\n",
       "      <th></th>\n",
       "      <th>bender</th>\n",
       "      <th>hal</th>\n",
       "      <th>johnny 5</th>\n",
       "    </tr>\n",
       "  </thead>\n",
       "  <tbody>\n",
       "    <tr>\n",
       "      <th>bending</th>\n",
       "      <td>100</td>\n",
       "      <td>0.0</td>\n",
       "      <td>2.0</td>\n",
       "    </tr>\n",
       "    <tr>\n",
       "      <th>dangerous</th>\n",
       "      <td>50</td>\n",
       "      <td>90.0</td>\n",
       "      <td>12.0</td>\n",
       "    </tr>\n",
       "    <tr>\n",
       "      <th>humor</th>\n",
       "      <td>50</td>\n",
       "      <td>0.0</td>\n",
       "      <td>5.0</td>\n",
       "    </tr>\n",
       "    <tr>\n",
       "      <th>intellect</th>\n",
       "      <td>20</td>\n",
       "      <td>100.0</td>\n",
       "      <td>0.0</td>\n",
       "    </tr>\n",
       "  </tbody>\n",
       "</table>\n",
       "</div>"
      ],
      "text/plain": [
       "           bender    hal  johnny 5\n",
       "bending       100    0.0       2.0\n",
       "dangerous      50   90.0      12.0\n",
       "humor          50    0.0       5.0\n",
       "intellect      20  100.0       0.0"
      ]
     },
     "execution_count": 111,
     "metadata": {},
     "output_type": "execute_result"
    }
   ],
   "source": [
    "# fill all NaNs with 0\n",
    "df_ai.fillna(0)"
   ]
  },
  {
   "cell_type": "code",
   "execution_count": 112,
   "metadata": {},
   "outputs": [
    {
     "data": {
      "text/html": [
       "<div>\n",
       "<style scoped>\n",
       "    .dataframe tbody tr th:only-of-type {\n",
       "        vertical-align: middle;\n",
       "    }\n",
       "\n",
       "    .dataframe tbody tr th {\n",
       "        vertical-align: top;\n",
       "    }\n",
       "\n",
       "    .dataframe thead th {\n",
       "        text-align: right;\n",
       "    }\n",
       "</style>\n",
       "<table border=\"1\" class=\"dataframe\">\n",
       "  <thead>\n",
       "    <tr style=\"text-align: right;\">\n",
       "      <th></th>\n",
       "      <th>bender</th>\n",
       "      <th>hal</th>\n",
       "      <th>johnny 5</th>\n",
       "    </tr>\n",
       "  </thead>\n",
       "  <tbody>\n",
       "    <tr>\n",
       "      <th>bending</th>\n",
       "      <td>100</td>\n",
       "      <td>NaN</td>\n",
       "      <td>2.0</td>\n",
       "    </tr>\n",
       "    <tr>\n",
       "      <th>dangerous</th>\n",
       "      <td>50</td>\n",
       "      <td>90.0</td>\n",
       "      <td>12.0</td>\n",
       "    </tr>\n",
       "    <tr>\n",
       "      <th>humor</th>\n",
       "      <td>50</td>\n",
       "      <td>90.0</td>\n",
       "      <td>5.0</td>\n",
       "    </tr>\n",
       "    <tr>\n",
       "      <th>intellect</th>\n",
       "      <td>20</td>\n",
       "      <td>100.0</td>\n",
       "      <td>5.0</td>\n",
       "    </tr>\n",
       "  </tbody>\n",
       "</table>\n",
       "</div>"
      ],
      "text/plain": [
       "           bender    hal  johnny 5\n",
       "bending       100    NaN       2.0\n",
       "dangerous      50   90.0      12.0\n",
       "humor          50   90.0       5.0\n",
       "intellect      20  100.0       5.0"
      ]
     },
     "execution_count": 112,
     "metadata": {},
     "output_type": "execute_result"
    }
   ],
   "source": [
    "# forward fill rows with previous column (axis=0) data \n",
    "df_ai.fillna(method='ffill', axis=0)"
   ]
  },
  {
   "cell_type": "code",
   "execution_count": 113,
   "metadata": {},
   "outputs": [
    {
     "data": {
      "text/html": [
       "<div>\n",
       "<style scoped>\n",
       "    .dataframe tbody tr th:only-of-type {\n",
       "        vertical-align: middle;\n",
       "    }\n",
       "\n",
       "    .dataframe tbody tr th {\n",
       "        vertical-align: top;\n",
       "    }\n",
       "\n",
       "    .dataframe thead th {\n",
       "        text-align: right;\n",
       "    }\n",
       "</style>\n",
       "<table border=\"1\" class=\"dataframe\">\n",
       "  <thead>\n",
       "    <tr style=\"text-align: right;\">\n",
       "      <th></th>\n",
       "      <th>bender</th>\n",
       "      <th>hal</th>\n",
       "      <th>johnny 5</th>\n",
       "    </tr>\n",
       "  </thead>\n",
       "  <tbody>\n",
       "    <tr>\n",
       "      <th>bending</th>\n",
       "      <td>100</td>\n",
       "      <td>90.0</td>\n",
       "      <td>2.0</td>\n",
       "    </tr>\n",
       "    <tr>\n",
       "      <th>dangerous</th>\n",
       "      <td>50</td>\n",
       "      <td>90.0</td>\n",
       "      <td>12.0</td>\n",
       "    </tr>\n",
       "    <tr>\n",
       "      <th>humor</th>\n",
       "      <td>50</td>\n",
       "      <td>90.0</td>\n",
       "      <td>5.0</td>\n",
       "    </tr>\n",
       "    <tr>\n",
       "      <th>intellect</th>\n",
       "      <td>20</td>\n",
       "      <td>100.0</td>\n",
       "      <td>5.0</td>\n",
       "    </tr>\n",
       "  </tbody>\n",
       "</table>\n",
       "</div>"
      ],
      "text/plain": [
       "           bender    hal  johnny 5\n",
       "bending       100   90.0       2.0\n",
       "dangerous      50   90.0      12.0\n",
       "humor          50   90.0       5.0\n",
       "intellect      20  100.0       5.0"
      ]
     },
     "execution_count": 113,
     "metadata": {},
     "output_type": "execute_result"
    }
   ],
   "source": [
    "# forward fill rows with previous column (axis=0) data \n",
    "# then back fill\n",
    "df_ai.fillna(method='ffill', axis=0).fillna(method='bfill', axis=0)"
   ]
  },
  {
   "cell_type": "markdown",
   "metadata": {},
   "source": [
    "Forward (ffill) and backfilling (bfill) have far better uses in time-series data. In this case, `hal` having a danger rating of 90 should not assume that his bending ability would be 90 as well, but this example clearly illustrates the forward and backfilling capabilities of [DataFrame]'s [fillna] method.\n",
    "\n",
    "[DataFrame]:https://pandas.pydata.org/pandas-docs/stable/generated/pandas.DataFrame.html\n",
    "[fillna]:https://pandas.pydata.org/pandas-docs/version/0.22/generated/pandas.DataFrame.fillna.html\n",
    "\n",
    "If we needed to make assumptions regarding the ability of this team of AI bots we could assume unknown data could start as an average of known data."
   ]
  },
  {
   "cell_type": "code",
   "execution_count": 114,
   "metadata": {},
   "outputs": [
    {
     "data": {
      "text/plain": [
       "bending      51.000000\n",
       "dangerous    50.666667\n",
       "humor        27.500000\n",
       "intellect    60.000000\n",
       "dtype: float64"
      ]
     },
     "execution_count": 114,
     "metadata": {},
     "output_type": "execute_result"
    }
   ],
   "source": [
    "# get the mean of data for each attribute row by column (axis=1)\n",
    "df_ai.mean(axis=1)"
   ]
  },
  {
   "cell_type": "markdown",
   "metadata": {},
   "source": [
    "[pandas.DataFrame.apply] method applies the return value of a function along an axis of DataFrame, axis=1 in the example below. The function given to [pandas.DataFrame.apply] is passed the row or column depending the axis specified, the function below receives rows (because axis=1 is specified) and assigns each row to the variable \"x\" in which the method \"mean\" is called and resulting data returned from the function. \n",
    "\n",
    "We could have defied a named function; however this small opperation **x.fillna(x.mean())** is hardly worthy of such attention. Python's [lambda]s are one line, anonymous functions, and then used responsibly, can make the code more compact and readable at the same time. \n",
    "\n",
    "[pandas.DataFrame.apply]:http://pandas.pydata.org/pandas-docs/version/0.22/generated/pandas.DataFrame.apply.html\n",
    "[lambda]:https://docs.python.org/3/tutorial/controlflow.html#lambda-expressions"
   ]
  },
  {
   "cell_type": "code",
   "execution_count": 115,
   "metadata": {},
   "outputs": [
    {
     "data": {
      "text/html": [
       "<div>\n",
       "<style scoped>\n",
       "    .dataframe tbody tr th:only-of-type {\n",
       "        vertical-align: middle;\n",
       "    }\n",
       "\n",
       "    .dataframe tbody tr th {\n",
       "        vertical-align: top;\n",
       "    }\n",
       "\n",
       "    .dataframe thead th {\n",
       "        text-align: right;\n",
       "    }\n",
       "</style>\n",
       "<table border=\"1\" class=\"dataframe\">\n",
       "  <thead>\n",
       "    <tr style=\"text-align: right;\">\n",
       "      <th></th>\n",
       "      <th>bender</th>\n",
       "      <th>hal</th>\n",
       "      <th>johnny 5</th>\n",
       "    </tr>\n",
       "  </thead>\n",
       "  <tbody>\n",
       "    <tr>\n",
       "      <th>bending</th>\n",
       "      <td>100.0</td>\n",
       "      <td>51.0</td>\n",
       "      <td>2.0</td>\n",
       "    </tr>\n",
       "    <tr>\n",
       "      <th>dangerous</th>\n",
       "      <td>50.0</td>\n",
       "      <td>90.0</td>\n",
       "      <td>12.0</td>\n",
       "    </tr>\n",
       "    <tr>\n",
       "      <th>humor</th>\n",
       "      <td>50.0</td>\n",
       "      <td>27.5</td>\n",
       "      <td>5.0</td>\n",
       "    </tr>\n",
       "    <tr>\n",
       "      <th>intellect</th>\n",
       "      <td>20.0</td>\n",
       "      <td>100.0</td>\n",
       "      <td>60.0</td>\n",
       "    </tr>\n",
       "  </tbody>\n",
       "</table>\n",
       "</div>"
      ],
      "text/plain": [
       "           bender    hal  johnny 5\n",
       "bending     100.0   51.0       2.0\n",
       "dangerous    50.0   90.0      12.0\n",
       "humor        50.0   27.5       5.0\n",
       "intellect    20.0  100.0      60.0"
      ]
     },
     "execution_count": 115,
     "metadata": {},
     "output_type": "execute_result"
    }
   ],
   "source": [
    "clean_df_ai = df_ai.apply(lambda x: x.fillna(x.mean()),axis=1)\n",
    "clean_df_ai"
   ]
  },
  {
   "cell_type": "markdown",
   "metadata": {},
   "source": [
    "### Sorting"
   ]
  },
  {
   "cell_type": "code",
   "execution_count": 116,
   "metadata": {},
   "outputs": [
    {
     "data": {
      "text/html": [
       "<div>\n",
       "<style scoped>\n",
       "    .dataframe tbody tr th:only-of-type {\n",
       "        vertical-align: middle;\n",
       "    }\n",
       "\n",
       "    .dataframe tbody tr th {\n",
       "        vertical-align: top;\n",
       "    }\n",
       "\n",
       "    .dataframe thead th {\n",
       "        text-align: right;\n",
       "    }\n",
       "</style>\n",
       "<table border=\"1\" class=\"dataframe\">\n",
       "  <thead>\n",
       "    <tr style=\"text-align: right;\">\n",
       "      <th></th>\n",
       "      <th>hal</th>\n",
       "      <th>johnny 5</th>\n",
       "      <th>bender</th>\n",
       "    </tr>\n",
       "  </thead>\n",
       "  <tbody>\n",
       "    <tr>\n",
       "      <th>bending</th>\n",
       "      <td>51.0</td>\n",
       "      <td>2.0</td>\n",
       "      <td>100.0</td>\n",
       "    </tr>\n",
       "    <tr>\n",
       "      <th>dangerous</th>\n",
       "      <td>90.0</td>\n",
       "      <td>12.0</td>\n",
       "      <td>50.0</td>\n",
       "    </tr>\n",
       "    <tr>\n",
       "      <th>humor</th>\n",
       "      <td>27.5</td>\n",
       "      <td>5.0</td>\n",
       "      <td>50.0</td>\n",
       "    </tr>\n",
       "    <tr>\n",
       "      <th>intellect</th>\n",
       "      <td>100.0</td>\n",
       "      <td>60.0</td>\n",
       "      <td>20.0</td>\n",
       "    </tr>\n",
       "  </tbody>\n",
       "</table>\n",
       "</div>"
      ],
      "text/plain": [
       "             hal  johnny 5  bender\n",
       "bending     51.0       2.0   100.0\n",
       "dangerous   90.0      12.0    50.0\n",
       "humor       27.5       5.0    50.0\n",
       "intellect  100.0      60.0    20.0"
      ]
     },
     "execution_count": 116,
     "metadata": {},
     "output_type": "execute_result"
    }
   ],
   "source": [
    "# order the columns by ai bot with the highest intellect\n",
    "hii = clean_df_ai.sort_values(['intellect'], axis=1, ascending=False)\n",
    "hii"
   ]
  },
  {
   "cell_type": "code",
   "execution_count": 117,
   "metadata": {},
   "outputs": [
    {
     "name": "stdout",
     "output_type": "stream",
     "text": [
      "The bot with the highest intelligence is hal.\n",
      "The bot with the lowest intelligence is bender.\n"
     ]
    }
   ],
   "source": [
    "print(f'The bot with the highest intelligence is {hii.columns[0]}.')\n",
    "print(f'The bot with the lowest intelligence is {hii.columns[-1]}.')"
   ]
  },
  {
   "cell_type": "markdown",
   "metadata": {},
   "source": [
    "I doubt that `johnny 5` is more intelligent than `bender` but his data was unknown and therefore derived by using a mean, so the sore is mathematically correct. \n",
    "\n",
    "I won't attempt even to scratch the surface of sorting functions and their parameters provided by [DataFrame]s. This article is only intended to give you a taste and get you going.\n",
    "\n",
    "### Math\n",
    "\n",
    "Use [NumPy] to perform any number of arithmetic operations on the values of a [DataFrames]. I suggest you take a look at my article [Python Data Essentials - Pandas][Numpy] for an overview of this compelling data science library.\n",
    "\n",
    "\n",
    "## Essential Python 3\n",
    "\n",
    "A lot of data science in done in [Jupyter Notbooks] and libraries like [NumPy] make developing reports or documenting numerical processes. However if you a software developer like me, this code needs to run in a script on a server, in Amazon's [Lambda Function Handler] or even [kubeless] in a custom [kubernetes] cluster.\n",
    "\n",
    "Check out my article on [Essential Python 3] for a clean boilerplate script template to get you going.\n",
    "\n",
    "[Essential Python 3]: https://mk.imti.co/essential-python3/\n",
    "[kubernetes]: https://mk.imti.co/hobby-cluster/\n",
    "[kubeless]:https://kubeless.io/\n",
    "[Jupyter Notbooks]:https://mk.imti.co/golang-to-jupyter/\n",
    "[Numpy]:https://mk.imti.co/python-data-essentials-numpy/\n",
    "[Lambda Function Handler]:https://docs.aws.amazon.com/lambda/latest/dg/python-programming-model-handler-types.html\n",
    "[DataFrame]:https://pandas.pydata.org/pandas-docs/stable/generated/pandas.DataFrame.html"
   ]
  }
 ],
 "metadata": {
  "kernelspec": {
   "display_name": "Python [conda env:anaconda3]",
   "language": "python",
   "name": "conda-env-anaconda3-py"
  },
  "language_info": {
   "codemirror_mode": {
    "name": "ipython",
    "version": 3
   },
   "file_extension": ".py",
   "mimetype": "text/x-python",
   "name": "python",
   "nbconvert_exporter": "python",
   "pygments_lexer": "ipython3",
   "version": "3.6.5"
  }
 },
 "nbformat": 4,
 "nbformat_minor": 2
}
