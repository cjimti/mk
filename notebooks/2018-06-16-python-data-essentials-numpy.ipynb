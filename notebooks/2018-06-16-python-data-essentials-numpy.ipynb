{
 "cells": [
  {
   "cell_type": "raw",
   "metadata": {},
   "source": [
    "---\n",
    "published: true\n",
    "layout: post\n",
    "title: Python Data Essentials - Numpy\n",
    "tags: coding python\n",
    "featured: python coding\n",
    "mast: sorting\n",
    "---"
   ]
  },
  {
   "cell_type": "markdown",
   "metadata": {},
   "source": [
    "Python is one of [The Most Popular Languages for Data Science], and because of this adoption by the [data science] community, we have libraries like [NumPy], [Pandas] and [Matplotlib]. [NumPy] at it's core provides a powerful N-dimensional array objects in which we can perform linear algebra, [Pandas] give us data structures and data analysis tools, similar to working with a specialized database or powerful spreadsheets and finally [Matplotlib] to generate plots, histograms, power spectra, bar charts, error charts and scatterplots to name a few.\n",
    "\n",
    "**Quick Reference:**\n",
    "\n",
    "* Do not remove this line (for toc on rendered blog)\n",
    "{:toc}\n",
    "\n",
    "## Microservices Data Eco-System\n",
    "\n",
    "I am not a data scientist, but like most software architects and full stack developers, I interact with data science at many points. However, where I spend the majority of my time building frameworks and pipelines, those in data science have been busy churning out amazing libraries.\n",
    "\n",
    "One of the advantages of microservice architecture allows not only a higher level of the separation of responsibility but allowing each service to leverage the ecosystem most suited to it. While Monoliths often embed DSLs like SQL or use language bindings libraries to use C drivers in a Java application, they must be written to the strengths of the language to get the most out of them.\n",
    "\n",
    "It's 2018, and in my world [Go] binaries power most of my containerized API endpoints, Python functions run in [kubeless] configurations, and it's all wired together in [kubernetes] with it's robust [services] and [ingress] management. In this team of experts, I let Python do the math, why? Because libraries like [NumPy] and [Pandas] make the kind of math I need easy, fast and maintainable.\n",
    "\n",
    "The [NumPy] and [Pandas] libraries have a tremendous number of options, far too many to cover here, but the documentation is fantastic, so, for this reason, I'll only be going over the essentials. Once you get past the essentials, as always, you'll need the documentation. However, if you are like me you don't do the same job every day, so you only need to be an expert in the essentials of many things and the documentation and google lead you to the experts in whatever niche of functionality you are set to build. My favorite type of resources are by example, and I will attempt that below.\n",
    "\n",
    "This article will focus on [NumPy] because it is the core numeric library that most of the [scientific Python ecosystem](http://www.physics.nyu.edu/pine/pymanual/html/apdx3/apdx3_resources.html) is built on. Understanding and using [NumPy] is vital to effective use of [Pandas], [Matplotlib] and much more.\n",
    "\n",
    "[data science]:http://www.scipy-lectures.org/intro/intro.html#why-python\n",
    "[kubeless]:https://kubeless.io/\n",
    "[kubernetes]: http://localhost:4000/tag/kubernetes/\n",
    "[go]:https://golang.org/\n",
    "[Numpy]:http://www.numpy.org/\n",
    "[pandas]:https://pandas.pydata.org/\n",
    "[Matplotlib]:https://matplotlib.org/\n",
    "[The Most Popular Languages for Data Science]: https://dzone.com/articles/which-are-the-popular-languages-for-data-science\n",
    "[services]: https://kubernetes.io/docs/concepts/services-networking/service/\n",
    "[ingress]: https://kubernetes.io/docs/concepts/services-networking/ingress/\n",
    "[Juypter Notebooks]: http://jupyter.readthedocs.io/en/latest/install.html#installing-jupyter-using-anaconda-and-conda\n",
    "[Anaconda]: https://www.anaconda.com/download/#macos"
   ]
  },
  {
   "cell_type": "markdown",
   "metadata": {},
   "source": [
    "## Getting Started with Numpy\n",
    "\n",
    "This article is written using [Juypter Notebooks] installed and running under [Anaconda]. If you don't already have this setup I highly recomend it, along with downloading this article itself as a notbook, executing and modifying the following examples. All the code below is executes here in [Juypter Notebooks].\n"
   ]
  },
  {
   "cell_type": "code",
   "execution_count": 1,
   "metadata": {},
   "outputs": [
    {
     "name": "stdout",
     "output_type": "stream",
     "text": [
      "# packages in environment at /Users/cjimti/anaconda3:\r\n",
      "#\r\n",
      "# Name                    Version                   Build  Channel\r\n",
      "numpy                     1.13.3           py36ha9ae307_4  \r\n",
      "numpy-base                1.14.3           py36ha9ae307_2  \r\n",
      "numpydoc                  0.8.0                    py36_0  \r\n"
     ]
    }
   ],
   "source": [
    "!conda list numpy"
   ]
  },
  {
   "cell_type": "markdown",
   "metadata": {},
   "source": [
    "I am running numpy 1.13.3 for the following examples."
   ]
  },
  {
   "cell_type": "markdown",
   "metadata": {},
   "source": [
    "### Numpy 1.13 Resources\n",
    "\n",
    "If you get stuck or interested in learning far more than the examples below, I suggest the following resources:\n",
    "\n",
    "- [NumPy 1.13 Manual](https://docs.scipy.org/doc/numpy-1.13.0/contents.html)\n",
    "- [NumPy 1.13 User Guide](https://docs.scipy.org/doc/numpy-1.13.0/user/index.html)\n",
    "- [NumPy 1.13 Reference](https://docs.scipy.org/doc/numpy-1.13.0/reference/index.html#reference)\n",
    "- [Cheat Sheet](https://www.dataquest.io/blog/numpy-cheat-sheet/)\n",
    "\n",
    "For a deep dive on all things [NumPy] try [Scipy Lectures on Numpy](http://www.scipy-lectures.org/intro/numpy/index.html).\n",
    "\n",
    "Why NumPy? Let's say we would like to find the mean of one hundred million random numbers:"
   ]
  },
  {
   "cell_type": "code",
   "execution_count": 3,
   "metadata": {},
   "outputs": [],
   "source": [
    "import numpy as np"
   ]
  },
  {
   "cell_type": "code",
   "execution_count": 4,
   "metadata": {},
   "outputs": [],
   "source": [
    "# create some random numbers\n",
    "x = np.random.random(100000000)"
   ]
  },
  {
   "cell_type": "code",
   "execution_count": 13,
   "metadata": {},
   "outputs": [
    {
     "name": "stdout",
     "output_type": "stream",
     "text": [
      "6.52 s ± 0 ns per loop (mean ± std. dev. of 1 run, 1 loop each)\n"
     ]
    }
   ],
   "source": [
    "%%timeit -n1 -r1\n",
    "sum(x) / len(x)"
   ]
  },
  {
   "cell_type": "code",
   "execution_count": 12,
   "metadata": {},
   "outputs": [
    {
     "name": "stdout",
     "output_type": "stream",
     "text": [
      "65.7 ms ± 0 ns per loop (mean ± std. dev. of 1 run, 1 loop each)\n"
     ]
    }
   ],
   "source": [
    "%%timeit -n1 -r1\n",
    "np.mean(x)"
   ]
  },
  {
   "cell_type": "markdown",
   "metadata": {},
   "source": [
    "We wrote less code, arguably more verbose code, and accomplished the same task over one hundred times faster. It's more code if you include the import statment, but that is long forgotton with the 100x speed increase.\n",
    "\n",
    "Finding the mean of one hundred million random numbers is great use of NumPy, but it get's a lot more interesting with NumPy's powerful N-dimensional arrays. "
   ]
  },
  {
   "cell_type": "markdown",
   "metadata": {},
   "source": [
    "### Creating Arrays\n",
    "\n",
    "NumPy's [array](https://docs.scipy.org/doc/numpy-1.13.0/reference/generated/numpy.array.html) function creates n-dimentional arrays from any object exposing the array interface, an object whose __array__ method returns an array, or any (nested) sequence. \n",
    "\n",
    "- [Array Creation](https://docs.scipy.org/doc/numpy-1.13.0/user/basics.creation.html) Documentation"
   ]
  },
  {
   "cell_type": "code",
   "execution_count": 28,
   "metadata": {},
   "outputs": [
    {
     "name": "stdout",
     "output_type": "stream",
     "text": [
      "data:\n",
      "[1 2 3 4 5]\n",
      " type: <class 'numpy.ndarray'>\n",
      " size: 5\n",
      "shape: (5,)\n"
     ]
    }
   ],
   "source": [
    "x = np.array([1,2,3,4,5])\n",
    "\n",
    "print(f'data:\\n{x}')\n",
    "print(f' type: {type(x)}')\n",
    "print(f' size: {x.size}')\n",
    "print(f'shape: {x.shape}')"
   ]
  },
  {
   "cell_type": "markdown",
   "metadata": {},
   "source": [
    "Rank 2 arrays are just arrays within arrays. The outter array holds rows of column data (axis=0) arrays. Row (axis=1) index 0 is being set to [1,1,1]."
   ]
  },
  {
   "cell_type": "code",
   "execution_count": 29,
   "metadata": {},
   "outputs": [
    {
     "name": "stdout",
     "output_type": "stream",
     "text": [
      " data:\n",
      "[[1 1 1]\n",
      " [2 2 2]\n",
      " [3 3 3]]\n",
      " type: <class 'numpy.ndarray'>\n",
      " size: 9\n",
      "shape: (3, 3)\n"
     ]
    }
   ],
   "source": [
    "y = np.array([[1,1,1],[2,2,2],[3,3,3]])\n",
    "\n",
    "print(f' data:\\n{y}')\n",
    "print(f' type: {type(y)}')\n",
    "print(f' size: {y.size}')\n",
    "print(f'shape: {y.shape}')"
   ]
  },
  {
   "cell_type": "markdown",
   "metadata": {},
   "source": [
    "### Built-in Array Creation Functions\n",
    "\n",
    "- [Array creation routines](https://docs.scipy.org/doc/numpy-1.13.0/reference/routines.array-creation.html) official documentation."
   ]
  },
  {
   "cell_type": "markdown",
   "metadata": {},
   "source": [
    "[np.zeros] (shape, dtype=float, order='C') returns an array or zeros in the shape specified as a [tuple].\n",
    "\n",
    "[np.zeros]: https://docs.scipy.org/doc/numpy-1.13.0/reference/generated/numpy.zeros.html\n",
    "[tuple]:https://docs.python.org/3/tutorial/datastructures.html#tuples-and-sequences"
   ]
  },
  {
   "cell_type": "code",
   "execution_count": 35,
   "metadata": {},
   "outputs": [
    {
     "name": "stdout",
     "output_type": "stream",
     "text": [
      " data:\n",
      "[[ 0.  0.  0.  0.  0.  0.  0.  0.  0.  0.  0.  0.]\n",
      " [ 0.  0.  0.  0.  0.  0.  0.  0.  0.  0.  0.  0.]\n",
      " [ 0.  0.  0.  0.  0.  0.  0.  0.  0.  0.  0.  0.]\n",
      " [ 0.  0.  0.  0.  0.  0.  0.  0.  0.  0.  0.  0.]\n",
      " [ 0.  0.  0.  0.  0.  0.  0.  0.  0.  0.  0.  0.]\n",
      " [ 0.  0.  0.  0.  0.  0.  0.  0.  0.  0.  0.  0.]\n",
      " [ 0.  0.  0.  0.  0.  0.  0.  0.  0.  0.  0.  0.]\n",
      " [ 0.  0.  0.  0.  0.  0.  0.  0.  0.  0.  0.  0.]\n",
      " [ 0.  0.  0.  0.  0.  0.  0.  0.  0.  0.  0.  0.]\n",
      " [ 0.  0.  0.  0.  0.  0.  0.  0.  0.  0.  0.  0.]]\n",
      " type: <class 'numpy.ndarray'>\n",
      " size: 120\n",
      " size: float64\n",
      "shape: (10, 12)\n"
     ]
    }
   ],
   "source": [
    "zros = np.zeros((10,12))\n",
    "print(f' data:\\n{zros}')\n",
    "print(f' type: {type(zros)}')\n",
    "print(f' size: {zros.size}')\n",
    "print(f' size: {zros.dtype}')\n",
    "print(f'shape: {zros.shape}')"
   ]
  },
  {
   "cell_type": "markdown",
   "metadata": {},
   "source": [
    "[np.full] (shape, fill_value, dtype=None, order='C') will fill an array in the specified shape with the value provided. If not data type is specified one will be derrived by the input value.\n",
    "\n",
    "[np.full]:https://docs.scipy.org/doc/numpy-1.13.0/reference/generated/numpy.full.html"
   ]
  },
  {
   "cell_type": "code",
   "execution_count": 37,
   "metadata": {},
   "outputs": [
    {
     "name": "stdout",
     "output_type": "stream",
     "text": [
      "5x5 of 5s:\n",
      "[[5 5 5 5 5]\n",
      " [5 5 5 5 5]\n",
      " [5 5 5 5 5]\n",
      " [5 5 5 5 5]\n",
      " [5 5 5 5 5]]\n",
      "\n",
      " size: 25\n",
      "dtype: int64\n",
      "shape: (5, 5)\n"
     ]
    }
   ],
   "source": [
    "f = np.full((5,5), 5)\n",
    "print(f'5x5 of 5s:\\n{f}\\n')\n",
    "\n",
    "print(f' size: {f.size}')\n",
    "print(f'dtype: {f.dtype}')\n",
    "print(f'shape: {f.shape}')"
   ]
  },
  {
   "cell_type": "markdown",
   "metadata": {},
   "source": [
    "Use the built in [np.eye] to create in identity matrix or build a custom diagonal with [np.diag].  \n",
    "\n",
    "[np.eye]: https://docs.scipy.org/doc/numpy-1.13.0/reference/generated/numpy.eye.html\n",
    "[np.diag]: https://docs.scipy.org/doc/numpy-1.13.0/reference/generated/numpy.diag.html"
   ]
  },
  {
   "cell_type": "code",
   "execution_count": 40,
   "metadata": {},
   "outputs": [
    {
     "name": "stdout",
     "output_type": "stream",
     "text": [
      "Identity matrix:\n",
      "[[ 1.  0.  0.  0.  0.  0.  0.  0.]\n",
      " [ 0.  1.  0.  0.  0.  0.  0.  0.]\n",
      " [ 0.  0.  1.  0.  0.  0.  0.  0.]\n",
      " [ 0.  0.  0.  1.  0.  0.  0.  0.]\n",
      " [ 0.  0.  0.  0.  1.  0.  0.  0.]\n",
      " [ 0.  0.  0.  0.  0.  1.  0.  0.]\n",
      " [ 0.  0.  0.  0.  0.  0.  1.  0.]\n",
      " [ 0.  0.  0.  0.  0.  0.  0.  1.]]\n",
      "\n",
      "Diagonal Matrix:\n",
      "[[ 2  0  0  0  0  0  0]\n",
      " [ 0  4  0  0  0  0  0]\n",
      " [ 0  0  5  0  0  0  0]\n",
      " [ 0  0  0  6  0  0  0]\n",
      " [ 0  0  0  0  8  0  0]\n",
      " [ 0  0  0  0  0 10  0]\n",
      " [ 0  0  0  0  0  0 12]]\n",
      "\n"
     ]
    }
   ],
   "source": [
    "# Identity and Diagonal Matrix\n",
    "ident = np.eye(8)\n",
    "print(f'Identity matrix:\\n{ident}\\n')\n",
    "\n",
    "diag = np.diag([2,4,5,6,8,10,12])\n",
    "print(f'Diagonal Matrix:\\n{diag}\\n')"
   ]
  },
  {
   "cell_type": "markdown",
   "metadata": {},
   "source": [
    "### Ranges, Random and Reshaping\n",
    "\n",
    "**Range Array Creation**\n",
    "- [numpy.arange] - Returns evenly spaced values within a given interval.\n",
    "- [numpy.linspace] - Returns evenly spaced numbers over a specified interval.\n",
    "- [numpy.logspace] - Return numbers spaced evenly on a log scale.\n",
    "\n",
    "**Random**\n",
    "- [Random sampling] - documentation\n",
    "\n",
    "**Reshaping Arrays**\n",
    "- [numpy.reshape] - Documentation\n",
    "\n",
    "[numpy.reshape]:https://docs.scipy.org/doc/numpy-1.13.0/reference/generated/numpy.reshape.html\n",
    "[Random sampling]:https://docs.scipy.org/doc/numpy-1.13.0/reference/routines.random.html\n",
    "[numpy.arange]:https://docs.scipy.org/doc/numpy-1.13.0/reference/generated/numpy.arange.html\n",
    "[numpy.linspace]:https://docs.scipy.org/doc/numpy-1.13.0/reference/generated/numpy.linspace.html#numpy.linspace\n",
    "[numpy.logspace]:https://docs.scipy.org/doc/numpy-1.13.0/reference/generated/numpy.logspace.html#numpy.logspace"
   ]
  },
  {
   "cell_type": "code",
   "execution_count": 47,
   "metadata": {},
   "outputs": [
    {
     "name": "stdout",
     "output_type": "stream",
     "text": [
      "Stop at 10:\n",
      "[0 1 2 3 4 5 6 7 8 9]\n",
      "\n",
      "Start at 50 and stop at 60:\n",
      "[50 51 52 53 54 55 56 57 58 59]\n",
      "\n",
      "Start at 2 and stop at 100 by 10:\n",
      "[ 2 12 22 32 42 52 62 72 82 92]\n",
      "\n"
     ]
    }
   ],
   "source": [
    "# arange rank 1 arrays\n",
    "ar1 = np.arange(10)\n",
    "ar2 = np.arange(50,60)\n",
    "ar3 = np.arange(2,100,10)\n",
    "\n",
    "print(f'Stop at 10:\\n{ar1}\\n')\n",
    "print(f'Start at 50 and stop at 60:\\n{ar2}\\n')\n",
    "print(f'Start at 2 and stop at 100 by 10:\\n{ar3}\\n')"
   ]
  },
  {
   "cell_type": "markdown",
   "metadata": {},
   "source": [
    "Use [np.linspace] to return evenly spaced numbers over a specified interval. **endpoint=False** will exclude the stop value, and **retstep=True** is the spacing between samples.\n",
    "\n",
    "[np.linspace]:https://docs.scipy.org/doc/numpy-1.13.0/reference/generated/numpy.linspace.html"
   ]
  },
  {
   "cell_type": "code",
   "execution_count": 62,
   "metadata": {},
   "outputs": [
    {
     "name": "stdout",
     "output_type": "stream",
     "text": [
      "10 evenly spaced floats from .0-20.:\n",
      "[  0.           1.42857143   2.85714286   4.28571429   5.71428571\n",
      "   7.14285714   8.57142857  10.          11.42857143  12.85714286\n",
      "  14.28571429  15.71428571  17.14285714  18.57142857  20.        ]\n",
      "\n",
      "excluding the endpoint:\n",
      "[  0.           1.33333333   2.66666667   4.           5.33333333\n",
      "   6.66666667   8.           9.33333333  10.66666667  12.          13.33333333\n",
      "  14.66666667  16.          17.33333333  18.66666667]\n",
      "\n"
     ]
    }
   ],
   "source": [
    "lsp1 = np.linspace(0, 20, 15)\n",
    "lsp2 = np.linspace(0, 20, 15, endpoint=False)\n",
    "\n",
    "print(f'10 evenly spaced floats from .0-20.:\\n{lsp1}\\n')\n",
    "print(f'excluding the endpoint:\\n{lsp2}\\n')"
   ]
  },
  {
   "cell_type": "markdown",
   "metadata": {},
   "source": [
    "[np.reshape] gives a new shape to an array without changing its data.\n",
    "\n",
    "[np.reshape]:https://docs.scipy.org/doc/numpy-1.13.0/reference/generated/numpy.reshape.html"
   ]
  },
  {
   "cell_type": "code",
   "execution_count": 63,
   "metadata": {},
   "outputs": [
    {
     "name": "stdout",
     "output_type": "stream",
     "text": [
      "reshaped range of 10 to a 2x5:\n",
      "[[0 1 2 3 4]\n",
      " [5 6 7 8 9]]\n",
      "\n"
     ]
    }
   ],
   "source": [
    "r1 = np.arange(10)\n",
    "r2 = np.reshape(r1, (2,5))\n",
    "\n",
    "print(f'reshaped range of 10 to a 2x5:\\n{r2}\\n')"
   ]
  },
  {
   "cell_type": "markdown",
   "metadata": {},
   "source": [
    "[NumPy Random] provides functions for simple random data, permutations and distributions. \n",
    "\n",
    "[NumPy Random]:https://docs.scipy.org/doc/numpy-1.13.0/reference/routines.random.html"
   ]
  },
  {
   "cell_type": "code",
   "execution_count": 72,
   "metadata": {},
   "outputs": [
    {
     "name": "stdout",
     "output_type": "stream",
     "text": [
      "random 4x4.:\n",
      "[[ 0.18782149  0.24735819  0.62014626  0.21425457]\n",
      " [ 0.99544511  0.50932097  0.25081655  0.87713039]\n",
      " [ 0.30737421  0.44161637  0.81432926  0.16024983]\n",
      " [ 0.95860737  0.35157861  0.8393971   0.25599258]]\n",
      "\n",
      "random interger 5x5 between 0 and 99.:\n",
      "[[37 65 16 31 40]\n",
      " [ 0 15 41 64 97]\n",
      " [50 79 58 37 37]\n",
      " [34 34 19 21 95]\n",
      " [84 35 86 56 37]]\n",
      "\n"
     ]
    }
   ],
   "source": [
    "rnd1 = np.random.random((4,4))\n",
    "rnd2 = np.random.randint(0,100,(5,5))\n",
    "\n",
    "print(f'random 4x4.:\\n{rnd1}\\n')\n",
    "print(f'random interger 5x5 between 0 and 99.:\\n{rnd2}\\n')"
   ]
  },
  {
   "cell_type": "markdown",
   "metadata": {},
   "source": [
    "[np.random.normal] draws random samples from a normal (Gaussian) distribution. \n",
    "\n",
    "Read the [Importance of data distribution in training machine learning models] to understand why we would need random numbers drawn from probability distributions.\n",
    "\n",
    "[Importance of data distribution in training machine learning models]:https://tekmarathon.com/2015/11/13/importance-of-data-distribution-in-training-machine-learning-models/\n",
    "[np.random.normal]:https://docs.scipy.org/doc/numpy-1.13.0/reference/generated/numpy.random.normal.html#numpy.random.normal"
   ]
  },
  {
   "cell_type": "code",
   "execution_count": 78,
   "metadata": {},
   "outputs": [
    {
     "name": "stdout",
     "output_type": "stream",
     "text": [
      "random normals with mean of 2\n",
      " and standard deviation of .5.:\n",
      "[[ 1.54646756  1.43589436  2.09875212  1.3974066 ]\n",
      " [ 1.08325865  2.0021442   1.47672472  2.85984543]\n",
      " [ 1.21980609  2.45491494  1.82050565  1.88821092]\n",
      " [ 1.94656678  2.0377511   2.29745424  1.84229137]\n",
      " [ 1.28723268  2.1499935   3.07733785  1.86075005]\n",
      " [ 2.32299782  2.28247921  2.19014796  1.89490517]\n",
      " [ 2.19440292  1.97758462  2.64923712  1.93849335]\n",
      " [ 2.58946891  1.7157246   2.46026935  1.95457179]\n",
      " [ 2.2315923   2.10719654  2.86608878  1.41678298]\n",
      " [ 2.04466755  1.00684125  2.36590025  2.88980114]]\n",
      "\n",
      "mean: 2.0220615601772067\n",
      " std: 0.49562922344472393\n"
     ]
    }
   ],
   "source": [
    "# random numbers drawn from probability distributions\n",
    "rn1 = np.random.normal(2,0.5, size=(10,4))\n",
    "print(f'random normals with mean of 2\\n and standard deviation of .5.:\\n{rn1}\\n')\n",
    "print(f'mean: {rn1.mean()}')\n",
    "print(f' std: {rn1.std()}')"
   ]
  },
  {
   "cell_type": "markdown",
   "metadata": {},
   "source": [
    "### Accessing, Deleting, and Inserting"
   ]
  },
  {
   "cell_type": "code",
   "execution_count": 107,
   "metadata": {},
   "outputs": [
    {
     "name": "stdout",
     "output_type": "stream",
     "text": [
      "[[ 1  2  3  4  5]\n",
      " [ 6  7  8  9 10]\n",
      " [11 12 13 14 15]\n",
      " [16 17 18 19 20]\n",
      " [21 22 23 24 25]]\n"
     ]
    }
   ],
   "source": [
    "adi1 = np.arange(1,26).reshape(5,5)\n",
    "print(adi1)"
   ]
  },
  {
   "cell_type": "code",
   "execution_count": 99,
   "metadata": {},
   "outputs": [
    {
     "name": "stdout",
     "output_type": "stream",
     "text": [
      "row 1, col 2: 2\n",
      "row 2, col 3: 13\n"
     ]
    }
   ],
   "source": [
    "print(f'row 1, col 2: {adi1[0][1]}')\n",
    "print(f'row 2, col 3: {adi1[2][2]}')"
   ]
  },
  {
   "cell_type": "code",
   "execution_count": 100,
   "metadata": {},
   "outputs": [
    {
     "name": "stdout",
     "output_type": "stream",
     "text": [
      "with rows 1-2 removed:\n",
      "[[ 1  2  3  4  5]\n",
      " [16 17 18 19 20]\n",
      " [21 22 23 24 25]]\n"
     ]
    }
   ],
   "source": [
    "# return matrix without rows 1-2\n",
    "adi2 = np.delete(adi1, [1,2], axis=0)\n",
    "print(f'with rows 1-2 removed:\\n{adi2}')"
   ]
  },
  {
   "cell_type": "code",
   "execution_count": 101,
   "metadata": {},
   "outputs": [
    {
     "name": "stdout",
     "output_type": "stream",
     "text": [
      "with cols 1-2 removed:\n",
      "[[ 1  4  5]\n",
      " [ 6  9 10]\n",
      " [11 14 15]\n",
      " [16 19 20]\n",
      " [21 24 25]]\n"
     ]
    }
   ],
   "source": [
    "# return matrix without cols 1-2\n",
    "adi3 = np.delete(adi1, [1,2], axis=1)\n",
    "print(f'with cols 1-2 removed:\\n{adi3}')"
   ]
  },
  {
   "cell_type": "code",
   "execution_count": 109,
   "metadata": {},
   "outputs": [
    {
     "name": "stdout",
     "output_type": "stream",
     "text": [
      "append output: [0 1 2 3 4]\n"
     ]
    }
   ],
   "source": [
    "# simple append\n",
    "ap = np.arange(3)\n",
    "ap = np.append(ap, [3,4])\n",
    "\n",
    "print(f'append output: {ap}')"
   ]
  },
  {
   "cell_type": "code",
   "execution_count": 110,
   "metadata": {},
   "outputs": [
    {
     "name": "stdout",
     "output_type": "stream",
     "text": [
      "[[ 1  2  3  4  5]\n",
      " [ 6  7  8  9 10]\n",
      " [11 12 13 14 15]\n",
      " [16 17 18 19 20]\n",
      " [21 22 23 24 25]]\n"
     ]
    }
   ],
   "source": [
    "print(adi1)"
   ]
  },
  {
   "cell_type": "code",
   "execution_count": 116,
   "metadata": {},
   "outputs": [
    {
     "name": "stdout",
     "output_type": "stream",
     "text": [
      "append row:\n",
      "[[ 1  2  3  4  5]\n",
      " [ 6  7  8  9 10]\n",
      " [11 12 13 14 15]\n",
      " [16 17 18 19 20]\n",
      " [21 22 23 24 25]\n",
      " [ 0  0  0  0  0]]\n",
      "\n",
      "append column:\n",
      "[[ 1  2  3  4  5  0]\n",
      " [ 6  7  8  9 10  0]\n",
      " [11 12 13 14 15  0]\n",
      " [16 17 18 19 20  0]\n",
      " [21 22 23 24 25  0]]\n",
      "\n"
     ]
    }
   ],
   "source": [
    "apnd1 = np.append(adi1, [[0,0,0,0,0]], axis=0)\n",
    "apnd2 = np.append(adi1, [[0],[0],[0],[0],[0]], axis=1)\n",
    "\n",
    "print(f'append row:\\n{apnd1}\\n')\n",
    "print(f'append column:\\n{apnd2}\\n')"
   ]
  },
  {
   "cell_type": "code",
   "execution_count": 118,
   "metadata": {},
   "outputs": [
    {
     "name": "stdout",
     "output_type": "stream",
     "text": [
      "inserting [1,1,1] at index 2:\n",
      "[0 0 1 1 1 0 0]\n",
      "\n"
     ]
    }
   ],
   "source": [
    "params = np.array([0,0,0,0])\n",
    "params2 = np.insert(params, 2, [1,1,1])\n",
    "print(f'inserting [1,1,1] at index 2:\\n{params2}\\n')"
   ]
  },
  {
   "cell_type": "code",
   "execution_count": 124,
   "metadata": {},
   "outputs": [
    {
     "name": "stdout",
     "output_type": "stream",
     "text": [
      "insert a row of 4s at index 3:\n",
      "[[0 0 0 0 0]\n",
      " [0 0 0 0 0]\n",
      " [0 0 0 0 0]\n",
      " [4 4 4 4 4]\n",
      " [0 0 0 0 0]\n",
      " [0 0 0 0 0]]\n",
      "\n",
      "insert a column of 4s at index 3:\n",
      "[[0 0 0 4 0 0]\n",
      " [0 0 0 4 0 0]\n",
      " [0 0 0 4 0 0]\n",
      " [0 0 0 4 0 0]\n",
      " [0 0 0 4 0 0]]\n",
      "\n"
     ]
    }
   ],
   "source": [
    "ins = np.full((5,5), 0)\n",
    "ins2 = np.insert(ins, 3, np.full(5, 4), axis=0)\n",
    "ins3 = np.insert(ins, 3, np.full(5, 4), axis=1)\n",
    "\n",
    "print(f'insert a row of 4s at row index 3:\\n{ins2}\\n')\n",
    "print(f'insert a column of 4s at column index 3:\\n{ins3}\\n')"
   ]
  },
  {
   "cell_type": "code",
   "execution_count": 125,
   "metadata": {},
   "outputs": [
    {
     "name": "stdout",
     "output_type": "stream",
     "text": [
      "verticle stack:\n",
      "[[0 0 0 0 0]\n",
      " [0 0 0 0 0]\n",
      " [0 0 0 0 0]\n",
      " [0 0 0 0 0]\n",
      " [0 0 0 0 0]\n",
      " [1 1 1 1 1]\n",
      " [1 1 1 1 1]\n",
      " [1 1 1 1 1]\n",
      " [1 1 1 1 1]\n",
      " [1 1 1 1 1]]\n",
      "\n",
      "horizontal stack:\n",
      "[[0 0 0 0 0 1 1 1 1 1]\n",
      " [0 0 0 0 0 1 1 1 1 1]\n",
      " [0 0 0 0 0 1 1 1 1 1]\n",
      " [0 0 0 0 0 1 1 1 1 1]\n",
      " [0 0 0 0 0 1 1 1 1 1]]\n",
      "\n"
     ]
    }
   ],
   "source": [
    "# stacking \n",
    "s1 = np.full((5,5), 0)\n",
    "s2 = np.full((5,5), 1)\n",
    "vs = np.vstack((s1, s2))\n",
    "hs = np.hstack((s1, s2))\n",
    "\n",
    "print(f'verticle stacking:\\n{vs}\\n')\n",
    "print(f'horizontal stacking:\\n{hs}\\n')"
   ]
  },
  {
   "cell_type": "markdown",
   "metadata": {},
   "source": [
    "### Slicing"
   ]
  },
  {
   "cell_type": "code",
   "execution_count": 140,
   "metadata": {},
   "outputs": [
    {
     "name": "stdout",
     "output_type": "stream",
     "text": [
      "a 4x5 range:\n",
      "[[ 1  2  3  4  5]\n",
      " [ 6  7  8  9 10]\n",
      " [11 12 13 14 15]\n",
      " [16 17 18 19 20]]\n",
      "\n",
      "a slice from row 1 to 4 and cols 2 to 5:\n",
      "[[ 8  9 10]\n",
      " [13 14 15]\n",
      " [18 19 20]]\n",
      "\n",
      "a slice all rows of column 2:\n",
      "[[ 2]\n",
      " [ 7]\n",
      " [12]\n",
      " [17]]\n",
      "\n",
      "a slice all rows of colums [0,3,4]:\n",
      "[[ 1  4  5]\n",
      " [ 6  9 10]\n",
      " [11 14 15]\n",
      " [16 19 20]]\n",
      "\n",
      "a copy:\n",
      "[[ 2]\n",
      " [ 7]\n",
      " [12]\n",
      " [17]]\n",
      "\n"
     ]
    }
   ],
   "source": [
    "slc = np.arange(1, 21).reshape(4,5)\n",
    "slc1 = slc[1:4, 2:5]\n",
    "slc2 = slc[:, 1:2]\n",
    "slc3 = slc[:, [0,3,4]]\n",
    "cpy  = slc2.copy()\n",
    "\n",
    "print(f'a 4x5 range:\\n{slc}\\n')\n",
    "print(f'a slice from row 1 to 4 and cols 2 to 5:\\n{slc1}\\n')\n",
    "print(f'a slice of all rows of column 2:\\n{slc2}\\n')\n",
    "print(f'a slice of all rows of colums [0,3,4]:\\n{slc3}\\n')\n",
    "print(f'a copy:\\n{cpy}\\n')"
   ]
  },
  {
   "cell_type": "markdown",
   "metadata": {},
   "source": [
    "### Boolean Indexing and Sorting"
   ]
  },
  {
   "cell_type": "code",
   "execution_count": 150,
   "metadata": {},
   "outputs": [
    {
     "name": "stdout",
     "output_type": "stream",
     "text": [
      "sequence from 0 to 24:\n",
      "[[ 0  1  2  3  4]\n",
      " [ 5  6  7  8  9]\n",
      " [10 11 12 13 14]\n",
      " [15 16 17 18 19]\n",
      " [20 21 22 23 24]] \n",
      "\n",
      "less than 7:\n",
      "[[ True  True  True  True  True]\n",
      " [ True  True False False False]\n",
      " [False False False False False]\n",
      " [False False False False False]\n",
      " [False False False False False]]\n",
      "\n",
      "even numbers:\n",
      "[ 0  2  4  6  8 10 12 14 16 18 20 22 24]\n",
      "\n"
     ]
    }
   ],
   "source": [
    "seq = np.arange(25).reshape(5,5)\n",
    "seq2 = seq|seq < 7\n",
    "seq3 = seq[(seq > 7) & (seq < 12)]\n",
    "seq4 = seq[seq % 2 < 1]\n",
    "\n",
    "print(f'sequence from 0 to 24:\\n{seq} \\n')\n",
    "print(f'less than 7:\\n{seq2}\\n')\n",
    "print(f'even numbers:\\n{seq4}\\n')"
   ]
  },
  {
   "cell_type": "markdown",
   "metadata": {},
   "source": [
    "### Arithmetic and Broadcasting\n",
    "\n",
    "- [Mathematical functions] documentation\n",
    "- [Broadcasting] documentation\n",
    "\n",
    "[Broadcasting]:https://docs.scipy.org/doc/numpy/user/basics.broadcasting.html\n",
    "[Mathematical functions]:https://docs.scipy.org/doc/numpy-1.13.0/reference/routines.math.html"
   ]
  },
  {
   "cell_type": "code",
   "execution_count": 161,
   "metadata": {},
   "outputs": [
    {
     "name": "stdout",
     "output_type": "stream",
     "text": [
      "add two arrays:\n",
      "[ 6  8 10 12] \n",
      "\n",
      "      subtract:\n",
      "[-4 -4 -4 -4] \n",
      "\n",
      "      multiply:\n",
      "[ 5 12 21 32] \n",
      "\n",
      "        divide:\n",
      "[ 0.2         0.33333333  0.42857143  0.5       ] \n",
      "\n"
     ]
    }
   ],
   "source": [
    "# rank 1 arrays\n",
    "ax = np.array([1,2,3,4])\n",
    "ay = np.array([5,6,7,8])\n",
    "\n",
    "print(f'add two arrays:\\n{ np.add(ax,ay) } \\n')\n",
    "print(f'      subtract:\\n{ np.subtract(ax,ay) } \\n')\n",
    "print(f'      multiply:\\n{ np.multiply(ax,ay) } \\n')\n",
    "print(f'        divide:\\n{ np.divide(ax,ay) } \\n')"
   ]
  },
  {
   "cell_type": "code",
   "execution_count": 163,
   "metadata": {},
   "outputs": [
    {
     "name": "stdout",
     "output_type": "stream",
     "text": [
      "add two arrays:\n",
      "[[ 6  8]\n",
      " [10 12]] \n",
      "\n",
      "      subtract:\n",
      "[[-4 -4]\n",
      " [-4 -4]] \n",
      "\n",
      "      multiply:\n",
      "[[ 5 12]\n",
      " [21 32]] \n",
      "\n",
      "        divide:\n",
      "[[ 0.2         0.33333333]\n",
      " [ 0.42857143  0.5       ]] \n",
      "\n"
     ]
    }
   ],
   "source": [
    "# rank 2 arrays\n",
    "aX = np.array([1,2,3,4]).reshape(2,2)\n",
    "aY = np.array([5,6,7,8]).reshape(2,2)\n",
    "\n",
    "print(f'add two arrays:\\n{ np.add(aX,aY) } \\n')\n",
    "print(f'      subtract:\\n{ np.subtract(aX,aY) } \\n')\n",
    "print(f'      multiply:\\n{ np.multiply(aX,aY) } \\n')\n",
    "print(f'        divide:\\n{ np.divide(aX,aY) } \\n')"
   ]
  },
  {
   "cell_type": "code",
   "execution_count": 169,
   "metadata": {},
   "outputs": [
    {
     "name": "stdout",
     "output_type": "stream",
     "text": [
      "square roots:\n",
      "[[ 1.          1.41421356]\n",
      " [ 1.73205081  2.        ]] \n",
      "\n",
      "exp (Euler's number):\n",
      "[[  2.71828183   7.3890561 ]\n",
      " [ 20.08553692  54.59815003]] \n",
      "\n",
      "average of all elements (mean):\n",
      "2.5 \n",
      "\n",
      "average each column (mean):\n",
      "[ 2.  3.] \n",
      "\n",
      "average each row (mean):\n",
      "[ 1.5  3.5] \n",
      "\n"
     ]
    }
   ],
   "source": [
    "print(f'square roots:\\n{ np.sqrt(aX) } \\n')\n",
    "print(f'exp (Euler\\'s number):\\n{ np.exp(aX) } \\n')\n",
    "print(f'average of all elements (mean):\\n{ aX.mean() } \\n')\n",
    "print(f'average each column (mean):\\n{ aX.mean(axis=0) } \\n')\n",
    "print(f'average each row (mean):\\n{ aX.mean(axis=1) } \\n')"
   ]
  },
  {
   "cell_type": "code",
   "execution_count": 172,
   "metadata": {},
   "outputs": [
    {
     "name": "stdout",
     "output_type": "stream",
     "text": [
      " 4x4 of ones:\n",
      "[[1 1 1 1]\n",
      " [1 1 1 1]\n",
      " [1 1 1 1]\n",
      " [1 1 1 1]] \n",
      "\n",
      " brodcasting sum of [1,2,3,4]:\n",
      "[[2 3 4 5]\n",
      " [2 3 4 5]\n",
      " [2 3 4 5]\n",
      " [2 3 4 5]] \n",
      "\n"
     ]
    }
   ],
   "source": [
    "aE = np.full((4,4), 1)\n",
    "aF = np.array([1,2,3,4])\n",
    "aG = np.add(aE, aF)\n",
    "\n",
    "print(f' 4x4 of ones:\\n{ aE } \\n')\n",
    "print(f' brodcasting sum of [1,2,3,4]:\\n{ aG } \\n')\n"
   ]
  },
  {
   "cell_type": "markdown",
   "metadata": {},
   "source": [
    "### Mean normalization\n",
    "\n",
    "Mean normalization scales data.\n",
    "\n",
    "- [Normalizing inputs] - Improving Deep Neural Networks: Hyperparameter tuning, Regularization and Optimization\n",
    "- [Mean Normalization] - Machine Learning\n",
    "- [Feature scaling]\n",
    "- [Statistics Normalization]\n",
    "\n",
    "[Normalizing inputs]:https://www.coursera.org/learn/deep-neural-network/lecture/lXv6U/normalizing-inputs\n",
    "[Mean Normalization]:https://www.coursera.org/learn/machine-learning/lecture/Adk8G/implementational-detail-mean-normalization\n",
    "[Feature scaling]:https://en.wikipedia.org/wiki/Feature_scaling\n",
    "[Statistics Normalization]: https://en.wikipedia.org/wiki/Normalization_(statistics)"
   ]
  },
  {
   "cell_type": "code",
   "execution_count": 226,
   "metadata": {},
   "outputs": [
    {
     "name": "stdout",
     "output_type": "stream",
     "text": [
      "a 10x10 of random integers 0-4999:\n",
      "[[1363  941 2244 3740  131 2652 2374 2420  252 4859]\n",
      " [2902  275 4906 2677 3735 1955 2148 3565  792 2112]\n",
      " [1651 2195 1586 4975 1647  471  970  278 4116 4092]\n",
      " [1379 4697 2481 1421 3384 3528 4206 2108 2848 4494]\n",
      " [4047   43 2115 4063 3864 2261  128 2000 1633 2718]\n",
      " [ 393 2173 1442 2517 4527 3091  745  444 3053   61]\n",
      " [1145  653 3907  830  228 4055 3314 1010  936  676]\n",
      " [4846 2543 4079 2492 2817 1608  874 4627  672 3586]\n",
      " [4441 2559 3305 4077  964 4623 1594 3166 2136 4421]\n",
      " [2303  156 4824 1973  313 2170 3686 2381  342 1027]] \n",
      "\n",
      "max value:\n",
      "4975 \n",
      "\n",
      "min value:\n",
      "43 \n",
      "\n",
      "mean value:\n",
      "2352.47 \n",
      "\n"
     ]
    }
   ],
   "source": [
    "MN = np.random.randint(5000, size=(10,10))\n",
    "\n",
    "print(f'a 10x10 of random integers 0-4999:\\n{ MN } \\n')\n",
    "print(f'max value:\\n{ MN.max() } \\n')\n",
    "print(f'min value:\\n{ MN.min() } \\n')\n",
    "print(f'mean value:\\n{ MN.mean() } \\n')"
   ]
  },
  {
   "cell_type": "code",
   "execution_count": 248,
   "metadata": {},
   "outputs": [
    {
     "name": "stdout",
     "output_type": "stream",
     "text": [
      "average of each column:\n",
      "[ 2369.9  2147.2  1968.4  2359.1  2340.   1867.4  2614.5  2289.4  2856.1\n",
      "  2552. ] \n",
      "\n",
      "standard Deviation of each column:\n",
      "[ 1273.86643334  1413.64400045  1386.22604217  1333.5585064   1390.563411\n",
      "  1505.58043292  1436.11470642  1456.26400079  1253.61225664  1444.22394385] \n",
      "\n"
     ]
    }
   ],
   "source": [
    "# average of each column\n",
    "MN_ave_cols = MN.mean(axis=0, dtype=np.float64)\n",
    "\n",
    "# standard Deviation of each column\n",
    "MN_std_cols = MN.std(axis=0, dtype=np.float64)\n",
    "\n",
    "print(f'average of each column:\\n{ NM_ave_cols } \\n')\n",
    "print(f'standard Deviation of each column:\\n{ NM_std_cols } \\n')"
   ]
  },
  {
   "cell_type": "code",
   "execution_count": 237,
   "metadata": {},
   "outputs": [
    {
     "name": "stdout",
     "output_type": "stream",
     "text": [
      "scaled and normalized:\n",
      "[[-0.51966084 -1.19801688  0.0295472   0.59720419 -1.55766063  0.57982528\n",
      "   0.50089332 -0.28174638 -2.35596301  2.03185556]\n",
      " [ 0.56903781 -1.70761594  1.7431561  -0.32901124  1.04590533  0.07928253\n",
      "   0.33885225  0.53620394 -1.91369783  0.13435183]\n",
      " [-0.31592776 -0.23850154 -0.39402705  1.67328703 -0.46248694 -0.98643548\n",
      "  -0.50576889 -1.81192071  0.80869008  1.50204654]\n",
      " [-0.50834233  1.67593816  0.18211118 -1.42339184  0.79233938  1.20891489\n",
      "   1.81442977 -0.50462892 -0.22981409  1.77973002]\n",
      " [ 1.37901829 -1.88513393 -0.05349395  0.87864124  1.13909623  0.299033\n",
      "  -1.10947942 -0.58178056 -1.22491075  0.5529493 ]\n",
      " [-1.20584517 -0.25533514 -0.48672415 -0.46842278  1.61805412  0.89508822\n",
      "  -0.66709297 -1.69333577 -0.06191713 -1.28238648]\n",
      " [-0.67387546 -1.41838404  1.10006996 -1.93834323 -1.48758685  1.58737405\n",
      "   1.17486945 -1.28900399 -1.79576044 -0.85757222]\n",
      " [ 1.94423611  0.02777544  1.2107915  -0.49020583  0.38273286 -0.16991164\n",
      "  -0.5746005   1.2948618  -2.01197898  1.15252456]\n",
      " [ 1.65773646  0.04001806  0.71254459  0.89083975 -0.95589303  1.9952769\n",
      "  -0.05836346  0.25117147 -0.81294893  1.72930491]\n",
      " [ 0.1453013  -1.79867043  1.69037025 -0.94242202 -1.426182    0.23368237\n",
      "   1.44159191 -0.3096067  -2.28225215 -0.61511724]] \n",
      "\n",
      "old max value: 4975\n",
      "      new max: 2.0318555579499042\n",
      "\n",
      "old min value: 43\n",
      "      new max: -2.355963009127506\n",
      "\n"
     ]
    }
   ],
   "source": [
    "# substract the mean from each column then divide by the standard deviation\n",
    "MN_norm = (MN - MN_ave_cols) / MN_std_cols\n",
    "\n",
    "print(f'scaled and normalized:\\n{ MN_norm } \\n')\n",
    "\n",
    "print(f'old max value: { MN.max() }')\n",
    "print(f'      new max: { MN_norm.max() }\\n')\n",
    "\n",
    "print(f'old min value: { MN.min() }')\n",
    "print(f'      new max: { MN_norm.min() }\\n')\n"
   ]
  },
  {
   "cell_type": "markdown",
   "metadata": {},
   "source": [
    "## Essential Python 3\n",
    "\n",
    "A lot of data science in done in [Jupyter Notbooks] and libraries like [NumPy] make developing reports or documenting numerical processes. However if you a software developer like me, this code needs to run in a script on a server, in Amazon's [Lambda Function Handler] or even [kubeless] in a custom [kubernetes] cluster.\n",
    "\n",
    "Check out my article on [Essential Python 3] for a clean boilerplate script template to get you going.\n",
    "\n",
    "[Essential Python 3]: https://mk.imti.co/essential-python3/\n",
    "[kubernetes]: https://mk.imti.co/hobby-cluster/\n",
    "[kubeless]:https://kubeless.io/\n",
    "[Jupyter Notbooks]:https://mk.imti.co/golang-to-jupyter/\n",
    "[Numpy]:https://docs.scipy.org/doc/numpy-1.13.0/reference/index.html\n",
    "[Lambda Function Handler]:https://docs.aws.amazon.com/lambda/latest/dg/python-programming-model-handler-types.html"
   ]
  },
  {
   "cell_type": "code",
   "execution_count": null,
   "metadata": {},
   "outputs": [],
   "source": []
  }
 ],
 "metadata": {
  "kernelspec": {
   "display_name": "Python [conda env:anaconda3]",
   "language": "python",
   "name": "conda-env-anaconda3-py"
  },
  "language_info": {
   "codemirror_mode": {
    "name": "ipython",
    "version": 3
   },
   "file_extension": ".py",
   "mimetype": "text/x-python",
   "name": "python",
   "nbconvert_exporter": "python",
   "pygments_lexer": "ipython3",
   "version": "3.6.5"
  }
 },
 "nbformat": 4,
 "nbformat_minor": 2
}
