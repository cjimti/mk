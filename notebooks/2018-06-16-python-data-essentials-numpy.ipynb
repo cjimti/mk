{
 "cells": [
  {
   "cell_type": "raw",
   "metadata": {},
   "source": [
    "---\n",
    "published: true\n",
    "layout: post\n",
    "title: Python Data Essentials - Numpy\n",
    "tags: coding python\n",
    "featured: python coding\n",
    "mast: sorting\n",
    "---"
   ]
  },
  {
   "cell_type": "markdown",
   "metadata": {},
   "source": [
    "Python is one of [The Most Popular Languages for Data Science], and because of this adoption by the [data science] community, we have libraries like [NumPy], [Pandas] and [Matplotlib]. [NumPy] at it's core provides a powerful N-dimensional array objects in which we can perform linear algebra, [Pandas] give us data structures and data analysis tools, similar to working with a specialized database or powerful spreadsheets and finally [Matplotlib] to generate plots, histograms, power spectra, bar charts, error charts and scatterplots to name a few.\n",
    "\n",
    "**Quick Reference:**\n",
    "\n",
    "* Do not remove this line (for toc on rendered blog)\n",
    "{:toc}\n",
    "\n",
    "## Microservices Data Eco-System\n",
    "\n",
    "I am not a data scientist, but like most software architects and full stack developers, I interact with data science at many points. However, where I spend the majority of my time building frameworks and pipelines, data science has been busy churning out amazing libraries.\n",
    "\n",
    "One of the advantages of microservice architecture allows not only a higher level of the separation of responsibility but allowing each service to leverage the ecosystem most suited to it. While Monoliths often embed DSLs like SQL or use language bindings libraries to use C drivers in a Java application, they must be written to the strengths of the language to get the most out of them.\n",
    "\n",
    "It's 2018, and in my world [Go] binaries power most of my containerized API endpoints, Python functions run in [kubeless] configurations, and it's all wired together in [kubernetes] with it's robust [services] and [ingress] management. In this team of experts, I let Python do the math, why? Because libraries like [NumPy] and [Pandas] make the kind of math, I need easy, fast and maintainable.\n",
    "\n",
    "The [NumPy] and [Pandas] libraries have a tremendous number of options far too many to cover here, but the documentation is fantastic, so, for this reason, I'll only be going over the essentials. Once you get past the essentials, you'll need the documentation. However, if you are like me you don't do the same job every day, so you only need to be an expert in the essentials of many things and the documentation and google lead you to the experts in whatever niche of functionality you are set to build.\n",
    "\n",
    "This article will focus on [NumPy] because it is one of the core numeric libraries that most of the [scientific Python ecosystem](http://www.physics.nyu.edu/pine/pymanual/html/apdx3/apdx3_resources.html) is built on. Understanding and using [NumPy] is vital to effective use of [Pandas] and even [Matplotlib].\n",
    "\n",
    "[data science]:http://www.scipy-lectures.org/intro/intro.html#why-python\n",
    "[kubeless]:https://kubeless.io/\n",
    "[kubernetes]: http://localhost:4000/tag/kubernetes/\n",
    "[go]:https://golang.org/\n",
    "[Numpy]:http://www.numpy.org/\n",
    "[pandas]:https://pandas.pydata.org/\n",
    "[Matplotlib]:https://matplotlib.org/\n",
    "[The Most Popular Languages for Data Science]: https://dzone.com/articles/which-are-the-popular-languages-for-data-science\n",
    "[services]: https://kubernetes.io/docs/concepts/services-networking/service/\n",
    "[ingress]: https://kubernetes.io/docs/concepts/services-networking/ingress/\n",
    "[Juypter Notebooks]: http://jupyter.readthedocs.io/en/latest/install.html#installing-jupyter-using-anaconda-and-conda\n",
    "[Anaconda]: https://www.anaconda.com/download/#macos"
   ]
  },
  {
   "cell_type": "markdown",
   "metadata": {},
   "source": [
    "## Getting Started with Numpy\n",
    "\n",
    "This article is written using [Juypter Notebooks] installed and running under [Anaconda]. If you don't already have this setup I highly recomend it, along with download this article itself as a notbook and executing the following examples. All the following code is executes here in [Juypter Notebooks].\n"
   ]
  },
  {
   "cell_type": "code",
   "execution_count": 1,
   "metadata": {},
   "outputs": [
    {
     "name": "stdout",
     "output_type": "stream",
     "text": [
      "# packages in environment at /Users/cjimti/anaconda3:\r\n",
      "#\r\n",
      "# Name                    Version                   Build  Channel\r\n",
      "numpy                     1.13.3           py36ha9ae307_4  \r\n",
      "numpy-base                1.14.3           py36ha9ae307_2  \r\n",
      "numpydoc                  0.8.0                    py36_0  \r\n"
     ]
    }
   ],
   "source": [
    "!conda list numpy"
   ]
  },
  {
   "cell_type": "markdown",
   "metadata": {},
   "source": [
    "I am running numpy 1.13.3 for the following examples."
   ]
  },
  {
   "cell_type": "markdown",
   "metadata": {},
   "source": [
    "### Numpy 1.13 Resources\n",
    "\n",
    "If you get stuck or interested in learning far more than the examples below, I suggest the following resources:\n",
    "\n",
    "- [NumPy 1.13 Manual](https://docs.scipy.org/doc/numpy-1.13.0/contents.html)\n",
    "- [NumPy 1.13 User Guide](https://docs.scipy.org/doc/numpy-1.13.0/user/index.html)\n",
    "- [NumPy 1.13 Reference](https://docs.scipy.org/doc/numpy-1.13.0/reference/index.html#reference)\n",
    "\n",
    "For a deep dive on all things [NumPy] try [Scipy Lectures on Numpy](http://www.scipy-lectures.org/intro/numpy/index.html).\n",
    "\n",
    "Why NumPy? Let's say we would like to find the mean of one hundred million random numbers:"
   ]
  },
  {
   "cell_type": "code",
   "execution_count": 3,
   "metadata": {},
   "outputs": [],
   "source": [
    "import numpy as np"
   ]
  },
  {
   "cell_type": "code",
   "execution_count": 4,
   "metadata": {},
   "outputs": [],
   "source": [
    "# create some random numbers\n",
    "x = np.random.random(100000000)"
   ]
  },
  {
   "cell_type": "code",
   "execution_count": 13,
   "metadata": {},
   "outputs": [
    {
     "name": "stdout",
     "output_type": "stream",
     "text": [
      "6.52 s ± 0 ns per loop (mean ± std. dev. of 1 run, 1 loop each)\n"
     ]
    }
   ],
   "source": [
    "%%timeit -n1 -r1\n",
    "sum(x) / len(x)"
   ]
  },
  {
   "cell_type": "code",
   "execution_count": 12,
   "metadata": {},
   "outputs": [
    {
     "name": "stdout",
     "output_type": "stream",
     "text": [
      "65.7 ms ± 0 ns per loop (mean ± std. dev. of 1 run, 1 loop each)\n"
     ]
    }
   ],
   "source": [
    "%%timeit -n1 -r1\n",
    "np.mean(x)"
   ]
  },
  {
   "cell_type": "markdown",
   "metadata": {},
   "source": [
    "We wrote less code, arguably more verbose code, and accomplished the same task over one hundred times faster. It's more code if you include the import statment, but that is long forgotton with the 100x speed increase.\n",
    "\n",
    "Finding the mean of one hundred million random numbers is great use of NumPy, but it get's a lot more interesting with NumPy's powerful N-dimensional arrays. "
   ]
  },
  {
   "cell_type": "markdown",
   "metadata": {},
   "source": [
    "### Creating Arrays"
   ]
  },
  {
   "cell_type": "code",
   "execution_count": 28,
   "metadata": {},
   "outputs": [
    {
     "name": "stdout",
     "output_type": "stream",
     "text": [
      "data:\n",
      "[1 2 3 4 5]\n",
      " type: <class 'numpy.ndarray'>\n",
      " size: 5\n",
      "shape: (5,)\n"
     ]
    }
   ],
   "source": [
    "x = np.array([1,2,3,4,5])\n",
    "\n",
    "print(f'data:\\n{x}')\n",
    "print(f' type: {type(x)}')\n",
    "print(f' size: {x.size}')\n",
    "print(f'shape: {x.shape}')"
   ]
  },
  {
   "cell_type": "code",
   "execution_count": 29,
   "metadata": {},
   "outputs": [
    {
     "name": "stdout",
     "output_type": "stream",
     "text": [
      " data:\n",
      "[[1 1 1]\n",
      " [2 2 2]\n",
      " [3 3 3]]\n",
      " type: <class 'numpy.ndarray'>\n",
      " size: 9\n",
      "shape: (3, 3)\n"
     ]
    }
   ],
   "source": [
    "y = np.array([[1,1,1],[2,2,2],[3,3,3]])\n",
    "\n",
    "print(f' data:\\n{y}')\n",
    "print(f' type: {type(y)}')\n",
    "print(f' size: {y.size}')\n",
    "print(f'shape: {y.shape}')"
   ]
  },
  {
   "cell_type": "markdown",
   "metadata": {},
   "source": [
    "### Built-in Array Creation Functions"
   ]
  },
  {
   "cell_type": "code",
   "execution_count": 35,
   "metadata": {},
   "outputs": [
    {
     "name": "stdout",
     "output_type": "stream",
     "text": [
      " data:\n",
      "[[ 0.  0.  0.  0.  0.  0.  0.  0.  0.  0.  0.  0.]\n",
      " [ 0.  0.  0.  0.  0.  0.  0.  0.  0.  0.  0.  0.]\n",
      " [ 0.  0.  0.  0.  0.  0.  0.  0.  0.  0.  0.  0.]\n",
      " [ 0.  0.  0.  0.  0.  0.  0.  0.  0.  0.  0.  0.]\n",
      " [ 0.  0.  0.  0.  0.  0.  0.  0.  0.  0.  0.  0.]\n",
      " [ 0.  0.  0.  0.  0.  0.  0.  0.  0.  0.  0.  0.]\n",
      " [ 0.  0.  0.  0.  0.  0.  0.  0.  0.  0.  0.  0.]\n",
      " [ 0.  0.  0.  0.  0.  0.  0.  0.  0.  0.  0.  0.]\n",
      " [ 0.  0.  0.  0.  0.  0.  0.  0.  0.  0.  0.  0.]\n",
      " [ 0.  0.  0.  0.  0.  0.  0.  0.  0.  0.  0.  0.]]\n",
      " type: <class 'numpy.ndarray'>\n",
      " size: 120\n",
      " size: float64\n",
      "shape: (10, 12)\n"
     ]
    }
   ],
   "source": [
    "zros = np.zeros((10,12))\n",
    "print(f' data:\\n{zros}')\n",
    "print(f' type: {type(zros)}')\n",
    "print(f' size: {zros.size}')\n",
    "print(f' size: {zros.dtype}')\n",
    "print(f'shape: {zros.shape}')"
   ]
  },
  {
   "cell_type": "code",
   "execution_count": 37,
   "metadata": {},
   "outputs": [
    {
     "name": "stdout",
     "output_type": "stream",
     "text": [
      "5x5 of 5s:\n",
      "[[5 5 5 5 5]\n",
      " [5 5 5 5 5]\n",
      " [5 5 5 5 5]\n",
      " [5 5 5 5 5]\n",
      " [5 5 5 5 5]]\n",
      "\n",
      " size: 25\n",
      "dtype: int64\n",
      "shape: (5, 5)\n"
     ]
    }
   ],
   "source": [
    "f = np.full((5,5), 5)\n",
    "print(f'5x5 of 5s:\\n{f}\\n')\n",
    "\n",
    "print(f' size: {f.size}')\n",
    "print(f'dtype: {f.dtype}')\n",
    "print(f'shape: {f.shape}')"
   ]
  },
  {
   "cell_type": "code",
   "execution_count": 40,
   "metadata": {},
   "outputs": [
    {
     "name": "stdout",
     "output_type": "stream",
     "text": [
      "Identity matrix:\n",
      "[[ 1.  0.  0.  0.  0.  0.  0.  0.]\n",
      " [ 0.  1.  0.  0.  0.  0.  0.  0.]\n",
      " [ 0.  0.  1.  0.  0.  0.  0.  0.]\n",
      " [ 0.  0.  0.  1.  0.  0.  0.  0.]\n",
      " [ 0.  0.  0.  0.  1.  0.  0.  0.]\n",
      " [ 0.  0.  0.  0.  0.  1.  0.  0.]\n",
      " [ 0.  0.  0.  0.  0.  0.  1.  0.]\n",
      " [ 0.  0.  0.  0.  0.  0.  0.  1.]]\n",
      "\n",
      "Diagonal Matrix:\n",
      "[[ 2  0  0  0  0  0  0]\n",
      " [ 0  4  0  0  0  0  0]\n",
      " [ 0  0  5  0  0  0  0]\n",
      " [ 0  0  0  6  0  0  0]\n",
      " [ 0  0  0  0  8  0  0]\n",
      " [ 0  0  0  0  0 10  0]\n",
      " [ 0  0  0  0  0  0 12]]\n",
      "\n"
     ]
    }
   ],
   "source": [
    "# Identity and Diagonal Matrix\n",
    "ident = np.eye(8)\n",
    "print(f'Identity matrix:\\n{ident}\\n')\n",
    "\n",
    "diag = np.diag([2,4,5,6,8,10,12])\n",
    "print(f'Diagonal Matrix:\\n{diag}\\n')"
   ]
  },
  {
   "cell_type": "markdown",
   "metadata": {},
   "source": [
    "### Ranges, Random and Reshaping"
   ]
  },
  {
   "cell_type": "code",
   "execution_count": 47,
   "metadata": {},
   "outputs": [
    {
     "name": "stdout",
     "output_type": "stream",
     "text": [
      "Stop at 10:\n",
      "[0 1 2 3 4 5 6 7 8 9]\n",
      "\n",
      "Start at 50 and stop at 60:\n",
      "[50 51 52 53 54 55 56 57 58 59]\n",
      "\n",
      "Start at 2 and stop at 100 by 10:\n",
      "[ 2 12 22 32 42 52 62 72 82 92]\n",
      "\n"
     ]
    }
   ],
   "source": [
    "# arange rank 1 arrays\n",
    "ar1 = np.arange(10)\n",
    "ar2 = np.arange(50,60)\n",
    "ar3 = np.arange(2,100,10)\n",
    "\n",
    "print(f'Stop at 10:\\n{ar1}\\n')\n",
    "print(f'Start at 50 and stop at 60:\\n{ar2}\\n')\n",
    "print(f'Start at 2 and stop at 100 by 10:\\n{ar3}\\n')"
   ]
  },
  {
   "cell_type": "code",
   "execution_count": 62,
   "metadata": {},
   "outputs": [
    {
     "name": "stdout",
     "output_type": "stream",
     "text": [
      "10 evenly spaced floats from .0-20.:\n",
      "[  0.           1.42857143   2.85714286   4.28571429   5.71428571\n",
      "   7.14285714   8.57142857  10.          11.42857143  12.85714286\n",
      "  14.28571429  15.71428571  17.14285714  18.57142857  20.        ]\n",
      "\n",
      "excluding the endpoint:\n",
      "[  0.           1.33333333   2.66666667   4.           5.33333333\n",
      "   6.66666667   8.           9.33333333  10.66666667  12.          13.33333333\n",
      "  14.66666667  16.          17.33333333  18.66666667]\n",
      "\n"
     ]
    }
   ],
   "source": [
    "lsp1 = np.linspace(0, 20, 15)\n",
    "lsp2 = np.linspace(0, 20, 15, endpoint=False)\n",
    "\n",
    "print(f'10 evenly spaced floats from .0-20.:\\n{lsp1}\\n')\n",
    "print(f'excluding the endpoint:\\n{lsp2}\\n')"
   ]
  },
  {
   "cell_type": "code",
   "execution_count": 63,
   "metadata": {},
   "outputs": [
    {
     "name": "stdout",
     "output_type": "stream",
     "text": [
      "reshaped range of 10 to a 2x5:\n",
      "[[0 1 2 3 4]\n",
      " [5 6 7 8 9]]\n",
      "\n"
     ]
    }
   ],
   "source": [
    "r1 = np.arange(10)\n",
    "r2 = np.reshape(r1, (2,5))\n",
    "\n",
    "print(f'reshaped range of 10 to a 2x5:\\n{r2}\\n')"
   ]
  },
  {
   "cell_type": "code",
   "execution_count": 72,
   "metadata": {},
   "outputs": [
    {
     "name": "stdout",
     "output_type": "stream",
     "text": [
      "random 4x4.:\n",
      "[[ 0.18782149  0.24735819  0.62014626  0.21425457]\n",
      " [ 0.99544511  0.50932097  0.25081655  0.87713039]\n",
      " [ 0.30737421  0.44161637  0.81432926  0.16024983]\n",
      " [ 0.95860737  0.35157861  0.8393971   0.25599258]]\n",
      "\n",
      "random interger 5x5 between 0 and 99.:\n",
      "[[37 65 16 31 40]\n",
      " [ 0 15 41 64 97]\n",
      " [50 79 58 37 37]\n",
      " [34 34 19 21 95]\n",
      " [84 35 86 56 37]]\n",
      "\n"
     ]
    }
   ],
   "source": [
    "rnd1 = np.random.random((4,4))\n",
    "rnd2 = np.random.randint(0,100,(5,5))\n",
    "\n",
    "print(f'random 4x4.:\\n{rnd1}\\n')\n",
    "print(f'random interger 5x5 between 0 and 99.:\\n{rnd2}\\n')"
   ]
  },
  {
   "cell_type": "code",
   "execution_count": 78,
   "metadata": {},
   "outputs": [
    {
     "name": "stdout",
     "output_type": "stream",
     "text": [
      "random normals with mean of 2\n",
      " and standard deviation of .5.:\n",
      "[[ 1.54646756  1.43589436  2.09875212  1.3974066 ]\n",
      " [ 1.08325865  2.0021442   1.47672472  2.85984543]\n",
      " [ 1.21980609  2.45491494  1.82050565  1.88821092]\n",
      " [ 1.94656678  2.0377511   2.29745424  1.84229137]\n",
      " [ 1.28723268  2.1499935   3.07733785  1.86075005]\n",
      " [ 2.32299782  2.28247921  2.19014796  1.89490517]\n",
      " [ 2.19440292  1.97758462  2.64923712  1.93849335]\n",
      " [ 2.58946891  1.7157246   2.46026935  1.95457179]\n",
      " [ 2.2315923   2.10719654  2.86608878  1.41678298]\n",
      " [ 2.04466755  1.00684125  2.36590025  2.88980114]]\n",
      "\n",
      "mean: 2.0220615601772067\n",
      " std: 0.49562922344472393\n"
     ]
    }
   ],
   "source": [
    "# random numbers drawn from probability distributions\n",
    "rn1 = np.random.normal(2,0.5, size=(10,4))\n",
    "print(f'random normals with mean of 2\\n and standard deviation of .5.:\\n{rn1}\\n')\n",
    "print(f'mean: {rn1.mean()}')\n",
    "print(f' std: {rn1.std()}')"
   ]
  },
  {
   "cell_type": "markdown",
   "metadata": {},
   "source": [
    "### Accessing, Deleting, and Inserting"
   ]
  },
  {
   "cell_type": "code",
   "execution_count": 107,
   "metadata": {},
   "outputs": [
    {
     "name": "stdout",
     "output_type": "stream",
     "text": [
      "[[ 1  2  3  4  5]\n",
      " [ 6  7  8  9 10]\n",
      " [11 12 13 14 15]\n",
      " [16 17 18 19 20]\n",
      " [21 22 23 24 25]]\n"
     ]
    }
   ],
   "source": [
    "adi1 = np.arange(1,26).reshape(5,5)\n",
    "print(adi1)"
   ]
  },
  {
   "cell_type": "code",
   "execution_count": 99,
   "metadata": {},
   "outputs": [
    {
     "name": "stdout",
     "output_type": "stream",
     "text": [
      "row 1, col 2: 2\n",
      "row 2, col 3: 13\n"
     ]
    }
   ],
   "source": [
    "print(f'row 1, col 2: {adi1[0][1]}')\n",
    "print(f'row 2, col 3: {adi1[2][2]}')"
   ]
  },
  {
   "cell_type": "code",
   "execution_count": 100,
   "metadata": {},
   "outputs": [
    {
     "name": "stdout",
     "output_type": "stream",
     "text": [
      "with rows 1-2 removed:\n",
      "[[ 1  2  3  4  5]\n",
      " [16 17 18 19 20]\n",
      " [21 22 23 24 25]]\n"
     ]
    }
   ],
   "source": [
    "# return matrix without rows 1-2\n",
    "adi2 = np.delete(adi1, [1,2], axis=0)\n",
    "print(f'with rows 1-2 removed:\\n{adi2}')"
   ]
  },
  {
   "cell_type": "code",
   "execution_count": 101,
   "metadata": {},
   "outputs": [
    {
     "name": "stdout",
     "output_type": "stream",
     "text": [
      "with cols 1-2 removed:\n",
      "[[ 1  4  5]\n",
      " [ 6  9 10]\n",
      " [11 14 15]\n",
      " [16 19 20]\n",
      " [21 24 25]]\n"
     ]
    }
   ],
   "source": [
    "# return matrix without cols 1-2\n",
    "adi3 = np.delete(adi1, [1,2], axis=1)\n",
    "print(f'with cols 1-2 removed:\\n{adi3}')"
   ]
  },
  {
   "cell_type": "code",
   "execution_count": 109,
   "metadata": {},
   "outputs": [
    {
     "name": "stdout",
     "output_type": "stream",
     "text": [
      "append output: [0 1 2 3 4]\n"
     ]
    }
   ],
   "source": [
    "# simple append\n",
    "ap = np.arange(3)\n",
    "ap = np.append(ap, [3,4])\n",
    "\n",
    "print(f'append output: {ap}')"
   ]
  },
  {
   "cell_type": "code",
   "execution_count": 110,
   "metadata": {},
   "outputs": [
    {
     "name": "stdout",
     "output_type": "stream",
     "text": [
      "[[ 1  2  3  4  5]\n",
      " [ 6  7  8  9 10]\n",
      " [11 12 13 14 15]\n",
      " [16 17 18 19 20]\n",
      " [21 22 23 24 25]]\n"
     ]
    }
   ],
   "source": [
    "print(adi1)"
   ]
  },
  {
   "cell_type": "code",
   "execution_count": 116,
   "metadata": {},
   "outputs": [
    {
     "name": "stdout",
     "output_type": "stream",
     "text": [
      "append row:\n",
      "[[ 1  2  3  4  5]\n",
      " [ 6  7  8  9 10]\n",
      " [11 12 13 14 15]\n",
      " [16 17 18 19 20]\n",
      " [21 22 23 24 25]\n",
      " [ 0  0  0  0  0]]\n",
      "\n",
      "append column:\n",
      "[[ 1  2  3  4  5  0]\n",
      " [ 6  7  8  9 10  0]\n",
      " [11 12 13 14 15  0]\n",
      " [16 17 18 19 20  0]\n",
      " [21 22 23 24 25  0]]\n",
      "\n"
     ]
    }
   ],
   "source": [
    "apnd1 = np.append(adi1, [[0,0,0,0,0]], axis=0)\n",
    "apnd2 = np.append(adi1, [[0],[0],[0],[0],[0]], axis=1)\n",
    "\n",
    "print(f'append row:\\n{apnd1}\\n')\n",
    "print(f'append column:\\n{apnd2}\\n')"
   ]
  },
  {
   "cell_type": "code",
   "execution_count": 118,
   "metadata": {},
   "outputs": [
    {
     "name": "stdout",
     "output_type": "stream",
     "text": [
      "inserting [1,1,1] at index 2:\n",
      "[0 0 1 1 1 0 0]\n",
      "\n"
     ]
    }
   ],
   "source": [
    "params = np.array([0,0,0,0])\n",
    "params2 = np.insert(params, 2, [1,1,1])\n",
    "print(f'inserting [1,1,1] at index 2:\\n{params2}\\n')"
   ]
  },
  {
   "cell_type": "code",
   "execution_count": 124,
   "metadata": {},
   "outputs": [
    {
     "name": "stdout",
     "output_type": "stream",
     "text": [
      "insert a row of 4s at index 3:\n",
      "[[0 0 0 0 0]\n",
      " [0 0 0 0 0]\n",
      " [0 0 0 0 0]\n",
      " [4 4 4 4 4]\n",
      " [0 0 0 0 0]\n",
      " [0 0 0 0 0]]\n",
      "\n",
      "insert a column of 4s at index 3:\n",
      "[[0 0 0 4 0 0]\n",
      " [0 0 0 4 0 0]\n",
      " [0 0 0 4 0 0]\n",
      " [0 0 0 4 0 0]\n",
      " [0 0 0 4 0 0]]\n",
      "\n"
     ]
    }
   ],
   "source": [
    "ins = np.full((5,5), 0)\n",
    "ins2 = np.insert(ins, 3, np.full(5, 4), axis=0)\n",
    "ins3 = np.insert(ins, 3, np.full(5, 4), axis=1)\n",
    "\n",
    "print(f'insert a row of 4s at row index 3:\\n{ins2}\\n')\n",
    "print(f'insert a column of 4s at column index 3:\\n{ins3}\\n')"
   ]
  },
  {
   "cell_type": "code",
   "execution_count": 125,
   "metadata": {},
   "outputs": [
    {
     "name": "stdout",
     "output_type": "stream",
     "text": [
      "verticle stack:\n",
      "[[0 0 0 0 0]\n",
      " [0 0 0 0 0]\n",
      " [0 0 0 0 0]\n",
      " [0 0 0 0 0]\n",
      " [0 0 0 0 0]\n",
      " [1 1 1 1 1]\n",
      " [1 1 1 1 1]\n",
      " [1 1 1 1 1]\n",
      " [1 1 1 1 1]\n",
      " [1 1 1 1 1]]\n",
      "\n",
      "horizontal stack:\n",
      "[[0 0 0 0 0 1 1 1 1 1]\n",
      " [0 0 0 0 0 1 1 1 1 1]\n",
      " [0 0 0 0 0 1 1 1 1 1]\n",
      " [0 0 0 0 0 1 1 1 1 1]\n",
      " [0 0 0 0 0 1 1 1 1 1]]\n",
      "\n"
     ]
    }
   ],
   "source": [
    "# stacking \n",
    "s1 = np.full((5,5), 0)\n",
    "s2 = np.full((5,5), 1)\n",
    "vs = np.vstack((s1, s2))\n",
    "hs = np.hstack((s1, s2))\n",
    "\n",
    "print(f'verticle stacking:\\n{vs}\\n')\n",
    "print(f'horizontal stacking:\\n{hs}\\n')"
   ]
  },
  {
   "cell_type": "markdown",
   "metadata": {},
   "source": [
    "### Slicing"
   ]
  },
  {
   "cell_type": "code",
   "execution_count": 140,
   "metadata": {},
   "outputs": [
    {
     "name": "stdout",
     "output_type": "stream",
     "text": [
      "a 4x5 range:\n",
      "[[ 1  2  3  4  5]\n",
      " [ 6  7  8  9 10]\n",
      " [11 12 13 14 15]\n",
      " [16 17 18 19 20]]\n",
      "\n",
      "a slice from row 1 to 4 and cols 2 to 5:\n",
      "[[ 8  9 10]\n",
      " [13 14 15]\n",
      " [18 19 20]]\n",
      "\n",
      "a slice all rows of column 2:\n",
      "[[ 2]\n",
      " [ 7]\n",
      " [12]\n",
      " [17]]\n",
      "\n",
      "a slice all rows of colums [0,3,4]:\n",
      "[[ 1  4  5]\n",
      " [ 6  9 10]\n",
      " [11 14 15]\n",
      " [16 19 20]]\n",
      "\n",
      "a copy:\n",
      "[[ 2]\n",
      " [ 7]\n",
      " [12]\n",
      " [17]]\n",
      "\n"
     ]
    }
   ],
   "source": [
    "slc = np.arange(1, 21).reshape(4,5)\n",
    "slc1 = slc[1:4, 2:5]\n",
    "slc2 = slc[:, 1:2]\n",
    "slc3 = slc[:, [0,3,4]]\n",
    "cpy  = slc2.copy()\n",
    "\n",
    "print(f'a 4x5 range:\\n{slc}\\n')\n",
    "print(f'a slice from row 1 to 4 and cols 2 to 5:\\n{slc1}\\n')\n",
    "print(f'a slice of all rows of column 2:\\n{slc2}\\n')\n",
    "print(f'a slice of all rows of colums [0,3,4]:\\n{slc3}\\n')\n",
    "print(f'a copy:\\n{cpy}\\n')"
   ]
  },
  {
   "cell_type": "markdown",
   "metadata": {},
   "source": [
    "### Boolean Indexing and Sorting"
   ]
  },
  {
   "cell_type": "code",
   "execution_count": 150,
   "metadata": {},
   "outputs": [
    {
     "name": "stdout",
     "output_type": "stream",
     "text": [
      "sequence from 0 to 24:\n",
      "[[ 0  1  2  3  4]\n",
      " [ 5  6  7  8  9]\n",
      " [10 11 12 13 14]\n",
      " [15 16 17 18 19]\n",
      " [20 21 22 23 24]] \n",
      "\n",
      "less than 7:\n",
      "[[ True  True  True  True  True]\n",
      " [ True  True False False False]\n",
      " [False False False False False]\n",
      " [False False False False False]\n",
      " [False False False False False]]\n",
      "\n",
      "even numbers:\n",
      "[ 0  2  4  6  8 10 12 14 16 18 20 22 24]\n",
      "\n"
     ]
    }
   ],
   "source": [
    "seq = np.arange(25).reshape(5,5)\n",
    "seq2 = seq|seq < 7\n",
    "seq3 = seq[(seq > 7) & (seq < 12)]\n",
    "seq4 = seq[seq % 2 < 1]\n",
    "\n",
    "print(f'sequence from 0 to 24:\\n{seq} \\n')\n",
    "print(f'less than 7:\\n{seq2}\\n')\n",
    "print(f'even numbers:\\n{seq4}\\n')"
   ]
  },
  {
   "cell_type": "markdown",
   "metadata": {},
   "source": [
    "### Arithmetic and Broadcasting"
   ]
  },
  {
   "cell_type": "markdown",
   "metadata": {},
   "source": [
    "### Mean normalization"
   ]
  },
  {
   "cell_type": "code",
   "execution_count": null,
   "metadata": {},
   "outputs": [],
   "source": []
  }
 ],
 "metadata": {
  "kernelspec": {
   "display_name": "Python [conda env:anaconda3]",
   "language": "python",
   "name": "conda-env-anaconda3-py"
  },
  "language_info": {
   "codemirror_mode": {
    "name": "ipython",
    "version": 3
   },
   "file_extension": ".py",
   "mimetype": "text/x-python",
   "name": "python",
   "nbconvert_exporter": "python",
   "pygments_lexer": "ipython3",
   "version": "3.6.5"
  }
 },
 "nbformat": 4,
 "nbformat_minor": 2
}
